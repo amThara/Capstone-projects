{
 "cells": [
  {
   "cell_type": "code",
   "execution_count": 1,
   "id": "c368fc14",
   "metadata": {},
   "outputs": [],
   "source": [
    "import pandas as pd\n",
    "import numpy as np\n",
    "import matplotlib.pyplot as plt\n",
    "import seaborn as sns\n",
    "\n",
    "import warnings\n",
    "warnings.filterwarnings('ignore')"
   ]
  },
  {
   "cell_type": "code",
   "execution_count": 2,
   "id": "7add72f1",
   "metadata": {
    "scrolled": true
   },
   "outputs": [
    {
     "data": {
      "text/html": [
       "<div>\n",
       "<style scoped>\n",
       "    .dataframe tbody tr th:only-of-type {\n",
       "        vertical-align: middle;\n",
       "    }\n",
       "\n",
       "    .dataframe tbody tr th {\n",
       "        vertical-align: top;\n",
       "    }\n",
       "\n",
       "    .dataframe thead th {\n",
       "        text-align: right;\n",
       "    }\n",
       "</style>\n",
       "<table border=\"1\" class=\"dataframe\">\n",
       "  <thead>\n",
       "    <tr style=\"text-align: right;\">\n",
       "      <th></th>\n",
       "      <th>Unnamed: 0</th>\n",
       "      <th>TV</th>\n",
       "      <th>radio</th>\n",
       "      <th>newspaper</th>\n",
       "      <th>sales</th>\n",
       "    </tr>\n",
       "  </thead>\n",
       "  <tbody>\n",
       "    <tr>\n",
       "      <th>0</th>\n",
       "      <td>1</td>\n",
       "      <td>230.1</td>\n",
       "      <td>37.8</td>\n",
       "      <td>69.2</td>\n",
       "      <td>22.1</td>\n",
       "    </tr>\n",
       "    <tr>\n",
       "      <th>1</th>\n",
       "      <td>2</td>\n",
       "      <td>44.5</td>\n",
       "      <td>39.3</td>\n",
       "      <td>45.1</td>\n",
       "      <td>10.4</td>\n",
       "    </tr>\n",
       "    <tr>\n",
       "      <th>2</th>\n",
       "      <td>3</td>\n",
       "      <td>17.2</td>\n",
       "      <td>45.9</td>\n",
       "      <td>69.3</td>\n",
       "      <td>9.3</td>\n",
       "    </tr>\n",
       "    <tr>\n",
       "      <th>3</th>\n",
       "      <td>4</td>\n",
       "      <td>151.5</td>\n",
       "      <td>41.3</td>\n",
       "      <td>58.5</td>\n",
       "      <td>18.5</td>\n",
       "    </tr>\n",
       "    <tr>\n",
       "      <th>4</th>\n",
       "      <td>5</td>\n",
       "      <td>180.8</td>\n",
       "      <td>10.8</td>\n",
       "      <td>58.4</td>\n",
       "      <td>12.9</td>\n",
       "    </tr>\n",
       "    <tr>\n",
       "      <th>...</th>\n",
       "      <td>...</td>\n",
       "      <td>...</td>\n",
       "      <td>...</td>\n",
       "      <td>...</td>\n",
       "      <td>...</td>\n",
       "    </tr>\n",
       "    <tr>\n",
       "      <th>195</th>\n",
       "      <td>196</td>\n",
       "      <td>38.2</td>\n",
       "      <td>3.7</td>\n",
       "      <td>13.8</td>\n",
       "      <td>7.6</td>\n",
       "    </tr>\n",
       "    <tr>\n",
       "      <th>196</th>\n",
       "      <td>197</td>\n",
       "      <td>94.2</td>\n",
       "      <td>4.9</td>\n",
       "      <td>8.1</td>\n",
       "      <td>9.7</td>\n",
       "    </tr>\n",
       "    <tr>\n",
       "      <th>197</th>\n",
       "      <td>198</td>\n",
       "      <td>177.0</td>\n",
       "      <td>9.3</td>\n",
       "      <td>6.4</td>\n",
       "      <td>12.8</td>\n",
       "    </tr>\n",
       "    <tr>\n",
       "      <th>198</th>\n",
       "      <td>199</td>\n",
       "      <td>283.6</td>\n",
       "      <td>42.0</td>\n",
       "      <td>66.2</td>\n",
       "      <td>25.5</td>\n",
       "    </tr>\n",
       "    <tr>\n",
       "      <th>199</th>\n",
       "      <td>200</td>\n",
       "      <td>232.1</td>\n",
       "      <td>8.6</td>\n",
       "      <td>8.7</td>\n",
       "      <td>13.4</td>\n",
       "    </tr>\n",
       "  </tbody>\n",
       "</table>\n",
       "<p>200 rows × 5 columns</p>\n",
       "</div>"
      ],
      "text/plain": [
       "     Unnamed: 0     TV  radio  newspaper  sales\n",
       "0             1  230.1   37.8       69.2   22.1\n",
       "1             2   44.5   39.3       45.1   10.4\n",
       "2             3   17.2   45.9       69.3    9.3\n",
       "3             4  151.5   41.3       58.5   18.5\n",
       "4             5  180.8   10.8       58.4   12.9\n",
       "..          ...    ...    ...        ...    ...\n",
       "195         196   38.2    3.7       13.8    7.6\n",
       "196         197   94.2    4.9        8.1    9.7\n",
       "197         198  177.0    9.3        6.4   12.8\n",
       "198         199  283.6   42.0       66.2   25.5\n",
       "199         200  232.1    8.6        8.7   13.4\n",
       "\n",
       "[200 rows x 5 columns]"
      ]
     },
     "execution_count": 2,
     "metadata": {},
     "output_type": "execute_result"
    }
   ],
   "source": [
    "data = pd.read_csv(r\"C:\\Users\\Lenovo\\Desktop\\DS\\Project\\Advertising.csv.txt\")\n",
    "data"
   ]
  },
  {
   "cell_type": "markdown",
   "id": "603f08c5",
   "metadata": {},
   "source": [
    "#### Dropping unwanted column"
   ]
  },
  {
   "cell_type": "code",
   "execution_count": 5,
   "id": "f1704741",
   "metadata": {},
   "outputs": [
    {
     "data": {
      "text/html": [
       "<div>\n",
       "<style scoped>\n",
       "    .dataframe tbody tr th:only-of-type {\n",
       "        vertical-align: middle;\n",
       "    }\n",
       "\n",
       "    .dataframe tbody tr th {\n",
       "        vertical-align: top;\n",
       "    }\n",
       "\n",
       "    .dataframe thead th {\n",
       "        text-align: right;\n",
       "    }\n",
       "</style>\n",
       "<table border=\"1\" class=\"dataframe\">\n",
       "  <thead>\n",
       "    <tr style=\"text-align: right;\">\n",
       "      <th></th>\n",
       "      <th>TV</th>\n",
       "      <th>radio</th>\n",
       "      <th>newspaper</th>\n",
       "      <th>sales</th>\n",
       "    </tr>\n",
       "  </thead>\n",
       "  <tbody>\n",
       "    <tr>\n",
       "      <th>0</th>\n",
       "      <td>230.1</td>\n",
       "      <td>37.8</td>\n",
       "      <td>69.2</td>\n",
       "      <td>22.1</td>\n",
       "    </tr>\n",
       "    <tr>\n",
       "      <th>1</th>\n",
       "      <td>44.5</td>\n",
       "      <td>39.3</td>\n",
       "      <td>45.1</td>\n",
       "      <td>10.4</td>\n",
       "    </tr>\n",
       "  </tbody>\n",
       "</table>\n",
       "</div>"
      ],
      "text/plain": [
       "      TV  radio  newspaper  sales\n",
       "0  230.1   37.8       69.2   22.1\n",
       "1   44.5   39.3       45.1   10.4"
      ]
     },
     "execution_count": 5,
     "metadata": {},
     "output_type": "execute_result"
    }
   ],
   "source": [
    "data = data.drop(['Unnamed: 0'], axis=1)\n",
    "data.head(2)"
   ]
  },
  {
   "cell_type": "markdown",
   "id": "9c9a7ce5",
   "metadata": {},
   "source": [
    "#### Problem statement\n",
    "From the above dataframe, we can see 4 columns where the company has spent 230.1 units for TV, 37.8 units for radio and 69.2 units for newspaper to get sales of 22.1 units.\n",
    "#### Solution\n",
    "Here we are going to find how many units of the three marketing channels will provide how much sales."
   ]
  },
  {
   "cell_type": "markdown",
   "id": "12ca05fc",
   "metadata": {},
   "source": [
    "## Statistical inference"
   ]
  },
  {
   "cell_type": "code",
   "execution_count": 7,
   "id": "76f4f95f",
   "metadata": {},
   "outputs": [
    {
     "data": {
      "text/plain": [
       "Index(['TV', 'radio', 'newspaper', 'sales'], dtype='object')"
      ]
     },
     "execution_count": 7,
     "metadata": {},
     "output_type": "execute_result"
    }
   ],
   "source": [
    "data.columns"
   ]
  },
  {
   "cell_type": "code",
   "execution_count": 9,
   "id": "e6a410aa",
   "metadata": {},
   "outputs": [
    {
     "data": {
      "text/plain": [
       "(200, 4)"
      ]
     },
     "execution_count": 9,
     "metadata": {},
     "output_type": "execute_result"
    }
   ],
   "source": [
    "data.shape"
   ]
  },
  {
   "cell_type": "code",
   "execution_count": 11,
   "id": "5d673a12",
   "metadata": {},
   "outputs": [
    {
     "data": {
      "text/plain": [
       "TV           0\n",
       "radio        0\n",
       "newspaper    0\n",
       "sales        0\n",
       "dtype: int64"
      ]
     },
     "execution_count": 11,
     "metadata": {},
     "output_type": "execute_result"
    }
   ],
   "source": [
    "data.isnull().sum()"
   ]
  },
  {
   "cell_type": "code",
   "execution_count": 12,
   "id": "f4948f05",
   "metadata": {},
   "outputs": [
    {
     "data": {
      "text/html": [
       "<div>\n",
       "<style scoped>\n",
       "    .dataframe tbody tr th:only-of-type {\n",
       "        vertical-align: middle;\n",
       "    }\n",
       "\n",
       "    .dataframe tbody tr th {\n",
       "        vertical-align: top;\n",
       "    }\n",
       "\n",
       "    .dataframe thead th {\n",
       "        text-align: right;\n",
       "    }\n",
       "</style>\n",
       "<table border=\"1\" class=\"dataframe\">\n",
       "  <thead>\n",
       "    <tr style=\"text-align: right;\">\n",
       "      <th></th>\n",
       "      <th>TV</th>\n",
       "      <th>radio</th>\n",
       "      <th>newspaper</th>\n",
       "      <th>sales</th>\n",
       "    </tr>\n",
       "  </thead>\n",
       "  <tbody>\n",
       "    <tr>\n",
       "      <th>count</th>\n",
       "      <td>200.000000</td>\n",
       "      <td>200.000000</td>\n",
       "      <td>200.000000</td>\n",
       "      <td>200.000000</td>\n",
       "    </tr>\n",
       "    <tr>\n",
       "      <th>mean</th>\n",
       "      <td>147.042500</td>\n",
       "      <td>23.264000</td>\n",
       "      <td>30.554000</td>\n",
       "      <td>14.022500</td>\n",
       "    </tr>\n",
       "    <tr>\n",
       "      <th>std</th>\n",
       "      <td>85.854236</td>\n",
       "      <td>14.846809</td>\n",
       "      <td>21.778621</td>\n",
       "      <td>5.217457</td>\n",
       "    </tr>\n",
       "    <tr>\n",
       "      <th>min</th>\n",
       "      <td>0.700000</td>\n",
       "      <td>0.000000</td>\n",
       "      <td>0.300000</td>\n",
       "      <td>1.600000</td>\n",
       "    </tr>\n",
       "    <tr>\n",
       "      <th>25%</th>\n",
       "      <td>74.375000</td>\n",
       "      <td>9.975000</td>\n",
       "      <td>12.750000</td>\n",
       "      <td>10.375000</td>\n",
       "    </tr>\n",
       "    <tr>\n",
       "      <th>50%</th>\n",
       "      <td>149.750000</td>\n",
       "      <td>22.900000</td>\n",
       "      <td>25.750000</td>\n",
       "      <td>12.900000</td>\n",
       "    </tr>\n",
       "    <tr>\n",
       "      <th>75%</th>\n",
       "      <td>218.825000</td>\n",
       "      <td>36.525000</td>\n",
       "      <td>45.100000</td>\n",
       "      <td>17.400000</td>\n",
       "    </tr>\n",
       "    <tr>\n",
       "      <th>max</th>\n",
       "      <td>296.400000</td>\n",
       "      <td>49.600000</td>\n",
       "      <td>114.000000</td>\n",
       "      <td>27.000000</td>\n",
       "    </tr>\n",
       "  </tbody>\n",
       "</table>\n",
       "</div>"
      ],
      "text/plain": [
       "               TV       radio   newspaper       sales\n",
       "count  200.000000  200.000000  200.000000  200.000000\n",
       "mean   147.042500   23.264000   30.554000   14.022500\n",
       "std     85.854236   14.846809   21.778621    5.217457\n",
       "min      0.700000    0.000000    0.300000    1.600000\n",
       "25%     74.375000    9.975000   12.750000   10.375000\n",
       "50%    149.750000   22.900000   25.750000   12.900000\n",
       "75%    218.825000   36.525000   45.100000   17.400000\n",
       "max    296.400000   49.600000  114.000000   27.000000"
      ]
     },
     "execution_count": 12,
     "metadata": {},
     "output_type": "execute_result"
    }
   ],
   "source": [
    "data.describe()"
   ]
  },
  {
   "cell_type": "code",
   "execution_count": 14,
   "id": "ccf8f37d",
   "metadata": {},
   "outputs": [
    {
     "data": {
      "text/plain": [
       "TV           float64\n",
       "radio        float64\n",
       "newspaper    float64\n",
       "sales        float64\n",
       "dtype: object"
      ]
     },
     "execution_count": 14,
     "metadata": {},
     "output_type": "execute_result"
    }
   ],
   "source": [
    "data.dtypes"
   ]
  },
  {
   "cell_type": "markdown",
   "id": "0dc7654c",
   "metadata": {},
   "source": [
    "- There are 4 columns in the dataframe whcih ae the marketing channels to gain increased sales\n",
    "- There are 200 rows and 4 columns in the dataframe\n",
    "- There are no null values present in the dataframe. But, there is 'zero' in radio marketing strategy and it is considered as value\n",
    "- From checking the type of data, there is no blank spaces or strings in the columns\n",
    "- No need of encoding because there are no strings"
   ]
  },
  {
   "cell_type": "markdown",
   "id": "e09dcdc8",
   "metadata": {},
   "source": [
    "## Exploratory Data Analysis"
   ]
  },
  {
   "cell_type": "markdown",
   "id": "90250e4e",
   "metadata": {},
   "source": [
    "There is no need to check for correlation, since there are only 4 columns "
   ]
  },
  {
   "cell_type": "markdown",
   "id": "00dce7a6",
   "metadata": {},
   "source": [
    "#### Distribution"
   ]
  },
  {
   "cell_type": "code",
   "execution_count": 15,
   "id": "bc4a7288",
   "metadata": {},
   "outputs": [
    {
     "data": {
      "text/plain": [
       "<function matplotlib.pyplot.show(close=None, block=None)>"
      ]
     },
     "execution_count": 15,
     "metadata": {},
     "output_type": "execute_result"
    },
    {
     "data": {
      "image/png": "[encoded data removed]",
      "text/plain": [
       "<Figure size 1440x1440 with 4 Axes>"
      ]
     },
     "metadata": {},
     "output_type": "display_data"
    }
   ],
   "source": [
    "plt.figure(figsize = (20,20), facecolor = 'white')\n",
    "plotnumber = 1\n",
    "\n",
    "for column in data:\n",
    "    if plotnumber <=4:\n",
    "        ax =  plt.subplot(2,2,plotnumber)\n",
    "        sns.distplot(data[column])\n",
    "        plt.xlabel(column, fontsize = 20)\n",
    "    plotnumber+=1\n",
    "plt.show"
   ]
  },
  {
   "cell_type": "markdown",
   "id": "6741da11",
   "metadata": {},
   "source": [
    "Data distribution looks decent but there are outliers. So, check for outliers after checcking correlation"
   ]
  },
  {
   "cell_type": "markdown",
   "id": "42e8d7c6",
   "metadata": {},
   "source": [
    "#### Finding and treating outliers"
   ]
  },
  {
   "cell_type": "code",
   "execution_count": 17,
   "id": "903aa63e",
   "metadata": {
    "scrolled": true
   },
   "outputs": [
    {
     "data": {
      "image/png": "[encoded data removed]",
      "text/plain": [
       "<Figure size 1080x3600 with 4 Axes>"
      ]
     },
     "metadata": {
      "needs_background": "light"
     },
     "output_type": "display_data"
    }
   ],
   "source": [
    "plt.figure(figsize=(15,50))\n",
    "graph = 1\n",
    "for column in data:\n",
    "    if graph<=4:\n",
    "        ax = plt.subplot(2,2,graph)\n",
    "        sns.boxplot(data[column],orient = 'V')\n",
    "        plt.xlabel(column, fontsize=10)\n",
    "    graph+=1\n",
    "plt.show()"
   ]
  },
  {
   "cell_type": "markdown",
   "id": "1dbe56b0",
   "metadata": {},
   "source": [
    "There is outlier in newspaper in higher side"
   ]
  },
  {
   "cell_type": "code",
   "execution_count": 18,
   "id": "10816eb6",
   "metadata": {
    "scrolled": true
   },
   "outputs": [
    {
     "name": "stdout",
     "output_type": "stream",
     "text": [
      "93.625\n",
      "(198, 4)\n"
     ]
    },
    {
     "data": {
      "text/html": [
       "<div>\n",
       "<style scoped>\n",
       "    .dataframe tbody tr th:only-of-type {\n",
       "        vertical-align: middle;\n",
       "    }\n",
       "\n",
       "    .dataframe tbody tr th {\n",
       "        vertical-align: top;\n",
       "    }\n",
       "\n",
       "    .dataframe thead th {\n",
       "        text-align: right;\n",
       "    }\n",
       "</style>\n",
       "<table border=\"1\" class=\"dataframe\">\n",
       "  <thead>\n",
       "    <tr style=\"text-align: right;\">\n",
       "      <th></th>\n",
       "      <th>index</th>\n",
       "      <th>TV</th>\n",
       "      <th>radio</th>\n",
       "      <th>newspaper</th>\n",
       "      <th>sales</th>\n",
       "    </tr>\n",
       "  </thead>\n",
       "  <tbody>\n",
       "    <tr>\n",
       "      <th>0</th>\n",
       "      <td>0</td>\n",
       "      <td>230.1</td>\n",
       "      <td>37.8</td>\n",
       "      <td>69.2</td>\n",
       "      <td>22.1</td>\n",
       "    </tr>\n",
       "    <tr>\n",
       "      <th>1</th>\n",
       "      <td>1</td>\n",
       "      <td>44.5</td>\n",
       "      <td>39.3</td>\n",
       "      <td>45.1</td>\n",
       "      <td>10.4</td>\n",
       "    </tr>\n",
       "    <tr>\n",
       "      <th>2</th>\n",
       "      <td>2</td>\n",
       "      <td>17.2</td>\n",
       "      <td>45.9</td>\n",
       "      <td>69.3</td>\n",
       "      <td>9.3</td>\n",
       "    </tr>\n",
       "    <tr>\n",
       "      <th>3</th>\n",
       "      <td>3</td>\n",
       "      <td>151.5</td>\n",
       "      <td>41.3</td>\n",
       "      <td>58.5</td>\n",
       "      <td>18.5</td>\n",
       "    </tr>\n",
       "    <tr>\n",
       "      <th>4</th>\n",
       "      <td>4</td>\n",
       "      <td>180.8</td>\n",
       "      <td>10.8</td>\n",
       "      <td>58.4</td>\n",
       "      <td>12.9</td>\n",
       "    </tr>\n",
       "    <tr>\n",
       "      <th>...</th>\n",
       "      <td>...</td>\n",
       "      <td>...</td>\n",
       "      <td>...</td>\n",
       "      <td>...</td>\n",
       "      <td>...</td>\n",
       "    </tr>\n",
       "    <tr>\n",
       "      <th>193</th>\n",
       "      <td>195</td>\n",
       "      <td>38.2</td>\n",
       "      <td>3.7</td>\n",
       "      <td>13.8</td>\n",
       "      <td>7.6</td>\n",
       "    </tr>\n",
       "    <tr>\n",
       "      <th>194</th>\n",
       "      <td>196</td>\n",
       "      <td>94.2</td>\n",
       "      <td>4.9</td>\n",
       "      <td>8.1</td>\n",
       "      <td>9.7</td>\n",
       "    </tr>\n",
       "    <tr>\n",
       "      <th>195</th>\n",
       "      <td>197</td>\n",
       "      <td>177.0</td>\n",
       "      <td>9.3</td>\n",
       "      <td>6.4</td>\n",
       "      <td>12.8</td>\n",
       "    </tr>\n",
       "    <tr>\n",
       "      <th>196</th>\n",
       "      <td>198</td>\n",
       "      <td>283.6</td>\n",
       "      <td>42.0</td>\n",
       "      <td>66.2</td>\n",
       "      <td>25.5</td>\n",
       "    </tr>\n",
       "    <tr>\n",
       "      <th>197</th>\n",
       "      <td>199</td>\n",
       "      <td>232.1</td>\n",
       "      <td>8.6</td>\n",
       "      <td>8.7</td>\n",
       "      <td>13.4</td>\n",
       "    </tr>\n",
       "  </tbody>\n",
       "</table>\n",
       "<p>198 rows × 5 columns</p>\n",
       "</div>"
      ],
      "text/plain": [
       "     index     TV  radio  newspaper  sales\n",
       "0        0  230.1   37.8       69.2   22.1\n",
       "1        1   44.5   39.3       45.1   10.4\n",
       "2        2   17.2   45.9       69.3    9.3\n",
       "3        3  151.5   41.3       58.5   18.5\n",
       "4        4  180.8   10.8       58.4   12.9\n",
       "..     ...    ...    ...        ...    ...\n",
       "193    195   38.2    3.7       13.8    7.6\n",
       "194    196   94.2    4.9        8.1    9.7\n",
       "195    197  177.0    9.3        6.4   12.8\n",
       "196    198  283.6   42.0       66.2   25.5\n",
       "197    199  232.1    8.6        8.7   13.4\n",
       "\n",
       "[198 rows x 5 columns]"
      ]
     },
     "execution_count": 18,
     "metadata": {},
     "output_type": "execute_result"
    }
   ],
   "source": [
    "#Find the IQR (Inter Quartile Range)\n",
    "q1 = data.quantile(0.25)\n",
    "q3 = data.quantile (0.75)\n",
    "#IQR\n",
    "iqr = q3 - q1\n",
    "\n",
    "np_high = (q3.newspaper + (1.5*iqr.newspaper))\n",
    "print (np_high)\n",
    "\n",
    "np_out = np.where(data['newspaper']>np_high)\n",
    "\n",
    "data=data.drop(data.index[np_out])\n",
    "print(data.shape)\n",
    "\n",
    "data.reset_index()"
   ]
  },
  {
   "cell_type": "markdown",
   "id": "8776ba52",
   "metadata": {},
   "source": [
    "Outlier is removed. Only 2 rows removed."
   ]
  },
  {
   "cell_type": "markdown",
   "id": "512dec7d",
   "metadata": {},
   "source": [
    "## Model building"
   ]
  },
  {
   "cell_type": "code",
   "execution_count": 20,
   "id": "3448a7d0",
   "metadata": {},
   "outputs": [],
   "source": [
    "from sklearn.linear_model import LinearRegression\n",
    "from sklearn.model_selection import train_test_split"
   ]
  },
  {
   "cell_type": "code",
   "execution_count": 21,
   "id": "42b0e6ce",
   "metadata": {},
   "outputs": [],
   "source": [
    "x = data.drop(columns = ['sales'])\n",
    "y = data['sales']"
   ]
  },
  {
   "cell_type": "markdown",
   "id": "342fc052",
   "metadata": {},
   "source": [
    "#### Relationship between depenedent and independent variable"
   ]
  },
  {
   "cell_type": "code",
   "execution_count": 56,
   "id": "3834a66a",
   "metadata": {},
   "outputs": [
    {
     "data": {
      "image/png": "[encoded data removed]",
      "text/plain": [
       "<Figure size 1440x2520 with 3 Axes>"
      ]
     },
     "metadata": {},
     "output_type": "display_data"
    }
   ],
   "source": [
    "plt.figure(figsize = (20,35), facecolor = 'white')\n",
    "plotnumber = 1\n",
    "\n",
    "for column in x:\n",
    "    if plotnumber<=15:\n",
    "        ax = plt.subplot(5,3,plotnumber)\n",
    "        plt.scatter(x[column],y)\n",
    "        plt.xlabel(column, fontsize = 20)\n",
    "        plt.ylabel('Sales', fontsize = 20)\n",
    "    plotnumber+=1\n",
    "plt.show()"
   ]
  },
  {
   "cell_type": "markdown",
   "id": "5232238d",
   "metadata": {},
   "source": [
    "The distribution looks fairly linear for Tv and radio"
   ]
  },
  {
   "cell_type": "markdown",
   "id": "cfa46f08",
   "metadata": {},
   "source": [
    "#### Finding best random state"
   ]
  },
  {
   "cell_type": "code",
   "execution_count": 24,
   "id": "beadbe47",
   "metadata": {},
   "outputs": [
    {
     "name": "stdout",
     "output_type": "stream",
     "text": [
      "Best regression score is: 0.9506195413176322 on Random State 209\n"
     ]
    }
   ],
   "source": [
    "maxreg = 0 \n",
    "maxrs = 0\n",
    "for i in range(1,300):\n",
    "    x_train,x_test,y_train,y_test = train_test_split(x,y,test_size=.20, random_state = i)\n",
    "    LR = LinearRegression()\n",
    "    LR.fit(x_train,y_train)\n",
    "    acc = LR.score(x_test,y_test)\n",
    "    if acc>maxreg:\n",
    "        maxreg = acc\n",
    "        maxrs = i\n",
    "print('Best regression score is:',maxreg,'on Random State',maxrs)"
   ]
  },
  {
   "cell_type": "code",
   "execution_count": 26,
   "id": "d14354e7",
   "metadata": {},
   "outputs": [],
   "source": [
    "x_train,x_test,y_train,y_test = train_test_split(x,y,test_size=.20, random_state = 209)"
   ]
  },
  {
   "cell_type": "code",
   "execution_count": 32,
   "id": "d768206e",
   "metadata": {},
   "outputs": [],
   "source": [
    "from sklearn.metrics import mean_squared_error, mean_absolute_error"
   ]
  },
  {
   "cell_type": "markdown",
   "id": "965abe1c",
   "metadata": {},
   "source": [
    "Check with some other models also, to know which model performs better"
   ]
  },
  {
   "cell_type": "markdown",
   "id": "b061850b",
   "metadata": {},
   "source": [
    "### Linear regression"
   ]
  },
  {
   "cell_type": "code",
   "execution_count": 42,
   "id": "cfff2145",
   "metadata": {},
   "outputs": [
    {
     "name": "stdout",
     "output_type": "stream",
     "text": [
      "Regression Score: 0.9506195413176322\n",
      "Mean Absolute Error: 1.0295883758894617\n",
      "Mean Squared Error: 1.6060719507638737\n"
     ]
    }
   ],
   "source": [
    "LR = LinearRegression()\n",
    "LR.fit(x_train,y_train)\n",
    "lr = LR.score(x_test,y_test)\n",
    "print('Regression Score:',lr)\n",
    "\n",
    "y_pred = LR.predict(x_test)\n",
    "\n",
    "mae = mean_absolute_error(y_test,y_pred)\n",
    "print('Mean Absolute Error:',mae)\n",
    "\n",
    "mse = mean_squared_error(y_test,y_pred)\n",
    "print('Mean Squared Error:',mse)"
   ]
  },
  {
   "cell_type": "markdown",
   "id": "7f694c2d",
   "metadata": {},
   "source": [
    "### Decision Tree Regressor"
   ]
  },
  {
   "cell_type": "code",
   "execution_count": 43,
   "id": "22b595c5",
   "metadata": {},
   "outputs": [
    {
     "name": "stdout",
     "output_type": "stream",
     "text": [
      "Regression Score: 0.9609601317163188\n",
      "Mean Absolute Error: 0.9375\n",
      "Mean Squared Error: 1.2697499999999997\n"
     ]
    }
   ],
   "source": [
    "from sklearn.tree import DecisionTreeRegressor\n",
    "\n",
    "dt = DecisionTreeRegressor()\n",
    "dt.fit(x_train,y_train)\n",
    "dtt = dt.score(x_test,y_test)\n",
    "print('Regression Score:',dtt)\n",
    "\n",
    "y_pred = dt.predict(x_test)\n",
    "\n",
    "mae = mean_absolute_error(y_test,y_pred)\n",
    "print('Mean Absolute Error:',mae)\n",
    "\n",
    "mse = mean_squared_error(y_test,y_pred)\n",
    "print('Mean Squared Error:',mse)"
   ]
  },
  {
   "cell_type": "markdown",
   "id": "608e627d",
   "metadata": {},
   "source": [
    "### Random forest regressor"
   ]
  },
  {
   "cell_type": "code",
   "execution_count": 44,
   "id": "a0c54abd",
   "metadata": {},
   "outputs": [
    {
     "name": "stdout",
     "output_type": "stream",
     "text": [
      "Regression Score: 0.9784369886418119\n",
      "Mean Absolute Error: 0.6545000000000009\n",
      "Mean Squared Error: 0.7013249499999994\n"
     ]
    }
   ],
   "source": [
    "from sklearn.ensemble import RandomForestRegressor\n",
    "\n",
    "rfr = RandomForestRegressor()\n",
    "rfr.fit(x_train,y_train)\n",
    "rfr_ = rfr.score(x_test,y_test)\n",
    "print('Regression Score:',rfr_)\n",
    "\n",
    "y_pred = rfr.predict(x_test)\n",
    "\n",
    "mae = mean_absolute_error(y_test,y_pred)\n",
    "print('Mean Absolute Error:',mae)\n",
    "\n",
    "mse = mean_squared_error(y_test,y_pred)\n",
    "print('Mean Squared Error:',mse)"
   ]
  },
  {
   "cell_type": "markdown",
   "id": "bab4f149",
   "metadata": {},
   "source": [
    "Random Forest Regressor is the best model for this dataset\n",
    "- Regression score is 0.97\n",
    "- Mean Absolute Error is 0.65\n",
    "- Mean Squared Error is 0.70"
   ]
  },
  {
   "cell_type": "markdown",
   "id": "ead403d9",
   "metadata": {},
   "source": [
    "## Cross-Validation Score"
   ]
  },
  {
   "cell_type": "markdown",
   "id": "79d409ce",
   "metadata": {},
   "source": [
    "Checking whether the model is overfitting or underfitting"
   ]
  },
  {
   "cell_type": "code",
   "execution_count": 46,
   "id": "4a18087b",
   "metadata": {},
   "outputs": [
    {
     "name": "stdout",
     "output_type": "stream",
     "text": [
      "LR cvs: 0.8853605756683912\n",
      "DT cvs: 0.9542152357757582\n",
      "RFR cvs: 0.9758710464912446\n"
     ]
    }
   ],
   "source": [
    "from sklearn.model_selection import cross_val_score\n",
    "\n",
    "sc = cross_val_score(LR,x,y,cv=5)\n",
    "print('LR cvs:',sc.mean())\n",
    "\n",
    "sc1 = cross_val_score(dt,x,y,cv=5)\n",
    "print('DT cvs:',sc1.mean())\n",
    "\n",
    "sc2 = cross_val_score(rfr,x,y,cv=5)\n",
    "print('RFR cvs:',sc2.mean())"
   ]
  },
  {
   "cell_type": "markdown",
   "id": "c726573c",
   "metadata": {},
   "source": [
    "## Hyper parameter tuning"
   ]
  },
  {
   "cell_type": "markdown",
   "id": "2ba20e92",
   "metadata": {},
   "source": [
    "Hyper parameter tuning to check whether we can increase the r2_score"
   ]
  },
  {
   "cell_type": "code",
   "execution_count": 50,
   "id": "0cae9f59",
   "metadata": {},
   "outputs": [],
   "source": [
    "from sklearn.model_selection import RandomizedSearchCV\n",
    "from sklearn.ensemble import AdaBoostRegressor\n",
    "from sklearn.tree import DecisionTreeRegressor\n",
    "dt = DecisionTreeRegressor()"
   ]
  },
  {
   "cell_type": "code",
   "execution_count": 51,
   "id": "5e7284d9",
   "metadata": {},
   "outputs": [
    {
     "name": "stdout",
     "output_type": "stream",
     "text": [
      "RandomizedSearchCV(cv=5, estimator=AdaBoostRegressor(),\n",
      "                   param_distributions={'learning_rate': [0.3, 0.4, 0.45],\n",
      "                                        'n_estimators': [40, 47, 49, 50]})\n",
      "Best Estimator: AdaBoostRegressor(learning_rate=0.4, n_estimators=47)\n"
     ]
    }
   ],
   "source": [
    "params = {'n_estimators': [40,47,49,50], 'learning_rate':[0.30,0.40,0.45]} \n",
    "rnd_search = RandomizedSearchCV (AdaBoostRegressor(), cv = 5, param_distributions = params,n_iter = 10,n_jobs=1)\n",
    "print(rnd_search.fit(x_train,y_train))\n",
    "print('Best Estimator:', rnd_search.best_estimator_)"
   ]
  },
  {
   "cell_type": "code",
   "execution_count": 53,
   "id": "e2eaa833",
   "metadata": {},
   "outputs": [
    {
     "name": "stdout",
     "output_type": "stream",
     "text": [
      "Accuracy post tuning\n",
      "0.9726052194205473\n"
     ]
    }
   ],
   "source": [
    "from sklearn import metrics\n",
    "\n",
    "ada = AdaBoostRegressor(base_estimator = dt, learning_rate=0.4,n_estimators=47)\n",
    "ada.fit(x_train,y_train)\n",
    "y_pred = ada.predict(x_test)\n",
    "\n",
    "print('Accuracy post tuning')\n",
    "print(metrics.r2_score(y_test,y_pred))"
   ]
  },
  {
   "cell_type": "markdown",
   "id": "237599e4",
   "metadata": {},
   "source": [
    "The accuracy has not changed. So, Random Forest regressor is the best choice of model where we get good R2_score."
   ]
  },
  {
   "cell_type": "markdown",
   "id": "25dca8e6",
   "metadata": {},
   "source": [
    "## Save the model"
   ]
  },
  {
   "cell_type": "code",
   "execution_count": 55,
   "id": "b126096f",
   "metadata": {},
   "outputs": [
    {
     "data": {
      "text/plain": [
       "['SalesChannel_Model.pkl']"
      ]
     },
     "execution_count": 55,
     "metadata": {},
     "output_type": "execute_result"
    }
   ],
   "source": [
    "import joblib\n",
    "joblib.dump(rfr,'SalesChannel_Model.pkl')"
   ]
  },
  {
   "cell_type": "markdown",
   "id": "620f43de",
   "metadata": {},
   "source": [
    "Thus the model is saved"
   ]
  },
  {
   "cell_type": "code",
   "execution_count": null,
   "id": "c949d4d7",
   "metadata": {},
   "outputs": [],
   "source": []
  }
 ],
 "metadata": {
  "kernelspec": {
   "display_name": "Python 3",
   "language": "python",
   "name": "python3"
  },
  "language_info": {
   "codemirror_mode": {
    "name": "ipython",
    "version": 3
   },
   "file_extension": ".py",
   "mimetype": "text/x-python",
   "name": "python",
   "nbconvert_exporter": "python",
   "pygments_lexer": "ipython3",
   "version": "3.8.8"
  }
 },
 "nbformat": 4,
 "nbformat_minor": 5
}
