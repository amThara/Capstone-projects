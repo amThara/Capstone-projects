{
 "cells": [
  {
   "cell_type": "code",
   "execution_count": 1,
   "id": "d175963f",
   "metadata": {},
   "outputs": [],
   "source": [
    "import pandas as pd\n",
    "import numpy as np\n",
    "import matplotlib.pyplot as plt\n",
    "import seaborn as sns\n",
    "\n",
    "import warnings\n",
    "warnings.filterwarnings('ignore')"
   ]
  },
  {
   "cell_type": "code",
   "execution_count": 2,
   "id": "0ceb6df5",
   "metadata": {
    "scrolled": true
   },
   "outputs": [
    {
     "data": {
      "text/html": [
       "<div>\n",
       "<style scoped>\n",
       "    .dataframe tbody tr th:only-of-type {\n",
       "        vertical-align: middle;\n",
       "    }\n",
       "\n",
       "    .dataframe tbody tr th {\n",
       "        vertical-align: top;\n",
       "    }\n",
       "\n",
       "    .dataframe thead th {\n",
       "        text-align: right;\n",
       "    }\n",
       "</style>\n",
       "<table border=\"1\" class=\"dataframe\">\n",
       "  <thead>\n",
       "    <tr style=\"text-align: right;\">\n",
       "      <th></th>\n",
       "      <th>Item_Identifier</th>\n",
       "      <th>Item_Weight</th>\n",
       "      <th>Item_Fat_Content</th>\n",
       "      <th>Item_Visibility</th>\n",
       "      <th>Item_Type</th>\n",
       "      <th>Item_MRP</th>\n",
       "      <th>Outlet_Identifier</th>\n",
       "      <th>Outlet_Establishment_Year</th>\n",
       "      <th>Outlet_Size</th>\n",
       "      <th>Outlet_Location_Type</th>\n",
       "      <th>Outlet_Type</th>\n",
       "      <th>Item_Outlet_Sales</th>\n",
       "    </tr>\n",
       "  </thead>\n",
       "  <tbody>\n",
       "    <tr>\n",
       "      <th>0</th>\n",
       "      <td>FDA15</td>\n",
       "      <td>9.300</td>\n",
       "      <td>Low Fat</td>\n",
       "      <td>0.016047</td>\n",
       "      <td>Dairy</td>\n",
       "      <td>249.8092</td>\n",
       "      <td>OUT049</td>\n",
       "      <td>1999</td>\n",
       "      <td>Medium</td>\n",
       "      <td>Tier 1</td>\n",
       "      <td>Supermarket Type1</td>\n",
       "      <td>3735.1380</td>\n",
       "    </tr>\n",
       "    <tr>\n",
       "      <th>1</th>\n",
       "      <td>DRC01</td>\n",
       "      <td>5.920</td>\n",
       "      <td>Regular</td>\n",
       "      <td>0.019278</td>\n",
       "      <td>Soft Drinks</td>\n",
       "      <td>48.2692</td>\n",
       "      <td>OUT018</td>\n",
       "      <td>2009</td>\n",
       "      <td>Medium</td>\n",
       "      <td>Tier 3</td>\n",
       "      <td>Supermarket Type2</td>\n",
       "      <td>443.4228</td>\n",
       "    </tr>\n",
       "    <tr>\n",
       "      <th>2</th>\n",
       "      <td>FDN15</td>\n",
       "      <td>17.500</td>\n",
       "      <td>Low Fat</td>\n",
       "      <td>0.016760</td>\n",
       "      <td>Meat</td>\n",
       "      <td>141.6180</td>\n",
       "      <td>OUT049</td>\n",
       "      <td>1999</td>\n",
       "      <td>Medium</td>\n",
       "      <td>Tier 1</td>\n",
       "      <td>Supermarket Type1</td>\n",
       "      <td>2097.2700</td>\n",
       "    </tr>\n",
       "    <tr>\n",
       "      <th>3</th>\n",
       "      <td>FDX07</td>\n",
       "      <td>19.200</td>\n",
       "      <td>Regular</td>\n",
       "      <td>0.000000</td>\n",
       "      <td>Fruits and Vegetables</td>\n",
       "      <td>182.0950</td>\n",
       "      <td>OUT010</td>\n",
       "      <td>1998</td>\n",
       "      <td>NaN</td>\n",
       "      <td>Tier 3</td>\n",
       "      <td>Grocery Store</td>\n",
       "      <td>732.3800</td>\n",
       "    </tr>\n",
       "    <tr>\n",
       "      <th>4</th>\n",
       "      <td>NCD19</td>\n",
       "      <td>8.930</td>\n",
       "      <td>Low Fat</td>\n",
       "      <td>0.000000</td>\n",
       "      <td>Household</td>\n",
       "      <td>53.8614</td>\n",
       "      <td>OUT013</td>\n",
       "      <td>1987</td>\n",
       "      <td>High</td>\n",
       "      <td>Tier 3</td>\n",
       "      <td>Supermarket Type1</td>\n",
       "      <td>994.7052</td>\n",
       "    </tr>\n",
       "    <tr>\n",
       "      <th>...</th>\n",
       "      <td>...</td>\n",
       "      <td>...</td>\n",
       "      <td>...</td>\n",
       "      <td>...</td>\n",
       "      <td>...</td>\n",
       "      <td>...</td>\n",
       "      <td>...</td>\n",
       "      <td>...</td>\n",
       "      <td>...</td>\n",
       "      <td>...</td>\n",
       "      <td>...</td>\n",
       "      <td>...</td>\n",
       "    </tr>\n",
       "    <tr>\n",
       "      <th>8518</th>\n",
       "      <td>FDF22</td>\n",
       "      <td>6.865</td>\n",
       "      <td>Low Fat</td>\n",
       "      <td>0.056783</td>\n",
       "      <td>Snack Foods</td>\n",
       "      <td>214.5218</td>\n",
       "      <td>OUT013</td>\n",
       "      <td>1987</td>\n",
       "      <td>High</td>\n",
       "      <td>Tier 3</td>\n",
       "      <td>Supermarket Type1</td>\n",
       "      <td>2778.3834</td>\n",
       "    </tr>\n",
       "    <tr>\n",
       "      <th>8519</th>\n",
       "      <td>FDS36</td>\n",
       "      <td>8.380</td>\n",
       "      <td>Regular</td>\n",
       "      <td>0.046982</td>\n",
       "      <td>Baking Goods</td>\n",
       "      <td>108.1570</td>\n",
       "      <td>OUT045</td>\n",
       "      <td>2002</td>\n",
       "      <td>NaN</td>\n",
       "      <td>Tier 2</td>\n",
       "      <td>Supermarket Type1</td>\n",
       "      <td>549.2850</td>\n",
       "    </tr>\n",
       "    <tr>\n",
       "      <th>8520</th>\n",
       "      <td>NCJ29</td>\n",
       "      <td>10.600</td>\n",
       "      <td>Low Fat</td>\n",
       "      <td>0.035186</td>\n",
       "      <td>Health and Hygiene</td>\n",
       "      <td>85.1224</td>\n",
       "      <td>OUT035</td>\n",
       "      <td>2004</td>\n",
       "      <td>Small</td>\n",
       "      <td>Tier 2</td>\n",
       "      <td>Supermarket Type1</td>\n",
       "      <td>1193.1136</td>\n",
       "    </tr>\n",
       "    <tr>\n",
       "      <th>8521</th>\n",
       "      <td>FDN46</td>\n",
       "      <td>7.210</td>\n",
       "      <td>Regular</td>\n",
       "      <td>0.145221</td>\n",
       "      <td>Snack Foods</td>\n",
       "      <td>103.1332</td>\n",
       "      <td>OUT018</td>\n",
       "      <td>2009</td>\n",
       "      <td>Medium</td>\n",
       "      <td>Tier 3</td>\n",
       "      <td>Supermarket Type2</td>\n",
       "      <td>1845.5976</td>\n",
       "    </tr>\n",
       "    <tr>\n",
       "      <th>8522</th>\n",
       "      <td>DRG01</td>\n",
       "      <td>14.800</td>\n",
       "      <td>Low Fat</td>\n",
       "      <td>0.044878</td>\n",
       "      <td>Soft Drinks</td>\n",
       "      <td>75.4670</td>\n",
       "      <td>OUT046</td>\n",
       "      <td>1997</td>\n",
       "      <td>Small</td>\n",
       "      <td>Tier 1</td>\n",
       "      <td>Supermarket Type1</td>\n",
       "      <td>765.6700</td>\n",
       "    </tr>\n",
       "  </tbody>\n",
       "</table>\n",
       "<p>8523 rows × 12 columns</p>\n",
       "</div>"
      ],
      "text/plain": [
       "     Item_Identifier  Item_Weight Item_Fat_Content  Item_Visibility  \\\n",
       "0              FDA15        9.300          Low Fat         0.016047   \n",
       "1              DRC01        5.920          Regular         0.019278   \n",
       "2              FDN15       17.500          Low Fat         0.016760   \n",
       "3              FDX07       19.200          Regular         0.000000   \n",
       "4              NCD19        8.930          Low Fat         0.000000   \n",
       "...              ...          ...              ...              ...   \n",
       "8518           FDF22        6.865          Low Fat         0.056783   \n",
       "8519           FDS36        8.380          Regular         0.046982   \n",
       "8520           NCJ29       10.600          Low Fat         0.035186   \n",
       "8521           FDN46        7.210          Regular         0.145221   \n",
       "8522           DRG01       14.800          Low Fat         0.044878   \n",
       "\n",
       "                  Item_Type  Item_MRP Outlet_Identifier  \\\n",
       "0                     Dairy  249.8092            OUT049   \n",
       "1               Soft Drinks   48.2692            OUT018   \n",
       "2                      Meat  141.6180            OUT049   \n",
       "3     Fruits and Vegetables  182.0950            OUT010   \n",
       "4                 Household   53.8614            OUT013   \n",
       "...                     ...       ...               ...   \n",
       "8518            Snack Foods  214.5218            OUT013   \n",
       "8519           Baking Goods  108.1570            OUT045   \n",
       "8520     Health and Hygiene   85.1224            OUT035   \n",
       "8521            Snack Foods  103.1332            OUT018   \n",
       "8522            Soft Drinks   75.4670            OUT046   \n",
       "\n",
       "      Outlet_Establishment_Year Outlet_Size Outlet_Location_Type  \\\n",
       "0                          1999      Medium               Tier 1   \n",
       "1                          2009      Medium               Tier 3   \n",
       "2                          1999      Medium               Tier 1   \n",
       "3                          1998         NaN               Tier 3   \n",
       "4                          1987        High               Tier 3   \n",
       "...                         ...         ...                  ...   \n",
       "8518                       1987        High               Tier 3   \n",
       "8519                       2002         NaN               Tier 2   \n",
       "8520                       2004       Small               Tier 2   \n",
       "8521                       2009      Medium               Tier 3   \n",
       "8522                       1997       Small               Tier 1   \n",
       "\n",
       "            Outlet_Type  Item_Outlet_Sales  \n",
       "0     Supermarket Type1          3735.1380  \n",
       "1     Supermarket Type2           443.4228  \n",
       "2     Supermarket Type1          2097.2700  \n",
       "3         Grocery Store           732.3800  \n",
       "4     Supermarket Type1           994.7052  \n",
       "...                 ...                ...  \n",
       "8518  Supermarket Type1          2778.3834  \n",
       "8519  Supermarket Type1           549.2850  \n",
       "8520  Supermarket Type1          1193.1136  \n",
       "8521  Supermarket Type2          1845.5976  \n",
       "8522  Supermarket Type1           765.6700  \n",
       "\n",
       "[8523 rows x 12 columns]"
      ]
     },
     "execution_count": 2,
     "metadata": {},
     "output_type": "execute_result"
    }
   ],
   "source": [
    "df = pd.read_csv(r\"C:\\Users\\Lenovo\\Desktop\\DS\\Project\\bigdatamart_Train.txt\")\n",
    "df"
   ]
  },
  {
   "cell_type": "markdown",
   "id": "961a1a34",
   "metadata": {},
   "source": [
    "#### Problem statement\n",
    "From the above dataframe, (10 stores,1559 products) there are 12 columns which has various attributes of both product and store. \n",
    "#### Solution\n",
    "From this we need to build a model to find the sales of each product at a particular store."
   ]
  },
  {
   "cell_type": "markdown",
   "id": "fa11b392",
   "metadata": {},
   "source": [
    "## Statistical inference"
   ]
  },
  {
   "cell_type": "code",
   "execution_count": 3,
   "id": "6598b885",
   "metadata": {},
   "outputs": [
    {
     "data": {
      "text/plain": [
       "(8523, 12)"
      ]
     },
     "execution_count": 3,
     "metadata": {},
     "output_type": "execute_result"
    }
   ],
   "source": [
    "df.shape"
   ]
  },
  {
   "cell_type": "code",
   "execution_count": 4,
   "id": "9c9b9ebf",
   "metadata": {},
   "outputs": [
    {
     "data": {
      "text/plain": [
       "Index(['Item_Identifier', 'Item_Weight', 'Item_Fat_Content', 'Item_Visibility',\n",
       "       'Item_Type', 'Item_MRP', 'Outlet_Identifier',\n",
       "       'Outlet_Establishment_Year', 'Outlet_Size', 'Outlet_Location_Type',\n",
       "       'Outlet_Type', 'Item_Outlet_Sales'],\n",
       "      dtype='object')"
      ]
     },
     "execution_count": 4,
     "metadata": {},
     "output_type": "execute_result"
    }
   ],
   "source": [
    "df.columns"
   ]
  },
  {
   "cell_type": "markdown",
   "id": "4a3c7b4e",
   "metadata": {},
   "source": [
    "Out of all these columns, \n",
    "\n",
    "##### Product and its attributes\n",
    "- 'Item_Identifier'\n",
    "- 'Item_Weight' - Not needed (Each and every item differs - Volume/Quantity)\n",
    "- 'Item_Fat_Content' - Not needed (Only applicable for food items)\n",
    "- 'Item_Visibility'\n",
    "- 'Item_Type'\n",
    "- 'Item_MRP'\n",
    "\n",
    "##### Store and its attributes\n",
    "- 'Outlet_Identifier'\n",
    "- 'Outlet_Establishment_Year' - Not needed (This does not make any difference)\n",
    "- 'Outlet_Size'\n",
    "- 'Outlet_Location_Type'\n",
    "- 'Outlet_Type' - Not needed (Does not make any difference)"
   ]
  },
  {
   "cell_type": "code",
   "execution_count": 5,
   "id": "31d9a10d",
   "metadata": {},
   "outputs": [
    {
     "data": {
      "text/html": [
       "<div>\n",
       "<style scoped>\n",
       "    .dataframe tbody tr th:only-of-type {\n",
       "        vertical-align: middle;\n",
       "    }\n",
       "\n",
       "    .dataframe tbody tr th {\n",
       "        vertical-align: top;\n",
       "    }\n",
       "\n",
       "    .dataframe thead th {\n",
       "        text-align: right;\n",
       "    }\n",
       "</style>\n",
       "<table border=\"1\" class=\"dataframe\">\n",
       "  <thead>\n",
       "    <tr style=\"text-align: right;\">\n",
       "      <th></th>\n",
       "      <th>Item_Identifier</th>\n",
       "      <th>Item_Visibility</th>\n",
       "      <th>Item_Type</th>\n",
       "      <th>Item_MRP</th>\n",
       "      <th>Outlet_Identifier</th>\n",
       "      <th>Outlet_Size</th>\n",
       "      <th>Outlet_Location_Type</th>\n",
       "      <th>Item_Outlet_Sales</th>\n",
       "    </tr>\n",
       "  </thead>\n",
       "  <tbody>\n",
       "    <tr>\n",
       "      <th>0</th>\n",
       "      <td>FDA15</td>\n",
       "      <td>0.016047</td>\n",
       "      <td>Dairy</td>\n",
       "      <td>249.8092</td>\n",
       "      <td>OUT049</td>\n",
       "      <td>Medium</td>\n",
       "      <td>Tier 1</td>\n",
       "      <td>3735.1380</td>\n",
       "    </tr>\n",
       "    <tr>\n",
       "      <th>1</th>\n",
       "      <td>DRC01</td>\n",
       "      <td>0.019278</td>\n",
       "      <td>Soft Drinks</td>\n",
       "      <td>48.2692</td>\n",
       "      <td>OUT018</td>\n",
       "      <td>Medium</td>\n",
       "      <td>Tier 3</td>\n",
       "      <td>443.4228</td>\n",
       "    </tr>\n",
       "  </tbody>\n",
       "</table>\n",
       "</div>"
      ],
      "text/plain": [
       "  Item_Identifier  Item_Visibility    Item_Type  Item_MRP Outlet_Identifier  \\\n",
       "0           FDA15         0.016047        Dairy  249.8092            OUT049   \n",
       "1           DRC01         0.019278  Soft Drinks   48.2692            OUT018   \n",
       "\n",
       "  Outlet_Size Outlet_Location_Type  Item_Outlet_Sales  \n",
       "0      Medium               Tier 1          3735.1380  \n",
       "1      Medium               Tier 3           443.4228  "
      ]
     },
     "execution_count": 5,
     "metadata": {},
     "output_type": "execute_result"
    }
   ],
   "source": [
    "df = df.drop(['Item_Weight', 'Item_Fat_Content', 'Outlet_Establishment_Year', 'Outlet_Type',], axis=1)\n",
    "df.head(2)"
   ]
  },
  {
   "cell_type": "code",
   "execution_count": 6,
   "id": "66cf791f",
   "metadata": {},
   "outputs": [
    {
     "data": {
      "text/plain": [
       "Item_Identifier            0\n",
       "Item_Visibility            0\n",
       "Item_Type                  0\n",
       "Item_MRP                   0\n",
       "Outlet_Identifier          0\n",
       "Outlet_Size             2410\n",
       "Outlet_Location_Type       0\n",
       "Item_Outlet_Sales          0\n",
       "dtype: int64"
      ]
     },
     "execution_count": 6,
     "metadata": {},
     "output_type": "execute_result"
    }
   ],
   "source": [
    "df.isnull().sum()"
   ]
  },
  {
   "cell_type": "code",
   "execution_count": 7,
   "id": "dc8c0a20",
   "metadata": {},
   "outputs": [
    {
     "name": "stdout",
     "output_type": "stream",
     "text": [
      "<class 'pandas.core.frame.DataFrame'>\n",
      "RangeIndex: 8523 entries, 0 to 8522\n",
      "Data columns (total 8 columns):\n",
      " #   Column                Non-Null Count  Dtype  \n",
      "---  ------                --------------  -----  \n",
      " 0   Item_Identifier       8523 non-null   object \n",
      " 1   Item_Visibility       8523 non-null   float64\n",
      " 2   Item_Type             8523 non-null   object \n",
      " 3   Item_MRP              8523 non-null   float64\n",
      " 4   Outlet_Identifier     8523 non-null   object \n",
      " 5   Outlet_Size           6113 non-null   object \n",
      " 6   Outlet_Location_Type  8523 non-null   object \n",
      " 7   Item_Outlet_Sales     8523 non-null   float64\n",
      "dtypes: float64(3), object(5)\n",
      "memory usage: 532.8+ KB\n"
     ]
    }
   ],
   "source": [
    "df.info()"
   ]
  },
  {
   "cell_type": "markdown",
   "id": "5572997c",
   "metadata": {},
   "source": [
    "- Thre are 2410 null values in outlet_size\n",
    "- Item_Identifier,Item_Type,Outlet_Identifier,Outlet_Size are of object type, which has to be encoded"
   ]
  },
  {
   "cell_type": "markdown",
   "id": "af1f6c9c",
   "metadata": {},
   "source": [
    "Dropping out_size column, since it does not give more importance to the data"
   ]
  },
  {
   "cell_type": "code",
   "execution_count": 8,
   "id": "dfaa6506",
   "metadata": {},
   "outputs": [],
   "source": [
    "df = df.drop(['Outlet_Size'], axis=1)"
   ]
  },
  {
   "cell_type": "markdown",
   "id": "9daf5927",
   "metadata": {},
   "source": [
    "## Encoding"
   ]
  },
  {
   "cell_type": "markdown",
   "id": "e3197f35",
   "metadata": {},
   "source": [
    "Using label encoder to encode all the object type columns"
   ]
  },
  {
   "cell_type": "code",
   "execution_count": 9,
   "id": "8d8ba0a3",
   "metadata": {},
   "outputs": [],
   "source": [
    "from sklearn.preprocessing import LabelEncoder\n",
    "lab_enc = LabelEncoder()"
   ]
  },
  {
   "cell_type": "code",
   "execution_count": 10,
   "id": "33dcf985",
   "metadata": {},
   "outputs": [],
   "source": [
    "it_ty = lab_enc.fit_transform (df['Item_Type'])\n",
    "pd.Series(it_ty)\n",
    "df['Item_Type'] = it_ty"
   ]
  },
  {
   "cell_type": "code",
   "execution_count": 11,
   "id": "9e118154",
   "metadata": {},
   "outputs": [],
   "source": [
    "it_id = lab_enc.fit_transform (df['Item_Identifier'])\n",
    "pd.Series(it_id)\n",
    "df['Item_Identifier'] = it_id"
   ]
  },
  {
   "cell_type": "code",
   "execution_count": 12,
   "id": "bfbca289",
   "metadata": {},
   "outputs": [],
   "source": [
    "out_id = lab_enc.fit_transform (df['Outlet_Identifier'])\n",
    "pd.Series(out_id)\n",
    "df['Outlet_Identifier'] = out_id"
   ]
  },
  {
   "cell_type": "code",
   "execution_count": 13,
   "id": "7f66b221",
   "metadata": {},
   "outputs": [],
   "source": [
    "out_loc = lab_enc.fit_transform (df['Outlet_Location_Type'])\n",
    "pd.Series(out_loc)\n",
    "df['Outlet_Location_Type'] = out_loc"
   ]
  },
  {
   "cell_type": "markdown",
   "id": "1bed20e7",
   "metadata": {},
   "source": [
    "## Exploratory Data Analysis"
   ]
  },
  {
   "cell_type": "markdown",
   "id": "929da660",
   "metadata": {},
   "source": [
    "Check for correlation, distribution and outliers"
   ]
  },
  {
   "cell_type": "markdown",
   "id": "f6dbc752",
   "metadata": {},
   "source": [
    "#### Correlation"
   ]
  },
  {
   "cell_type": "code",
   "execution_count": 14,
   "id": "7bb96da5",
   "metadata": {},
   "outputs": [
    {
     "data": {
      "text/plain": [
       "<function matplotlib.pyplot.show(close=None, block=None)>"
      ]
     },
     "execution_count": 14,
     "metadata": {},
     "output_type": "execute_result"
    },
    {
     "data": {
      "image/png": "[encoded data removed]",
      "text/plain": [
       "<Figure size 1584x1152 with 2 Axes>"
      ]
     },
     "metadata": {
      "needs_background": "light"
     },
     "output_type": "display_data"
    }
   ],
   "source": [
    "df_corr = df.corr().abs()\n",
    "plt.figure (figsize = (22,16))\n",
    "sns.heatmap(df_corr,annot = True, annot_kws = {'size':8}) \n",
    "plt.show"
   ]
  },
  {
   "cell_type": "markdown",
   "id": "8e6a4df1",
   "metadata": {},
   "source": [
    "No high amount of correlation is encountered"
   ]
  },
  {
   "cell_type": "markdown",
   "id": "73158d05",
   "metadata": {},
   "source": [
    "#### Distribution through visualisation"
   ]
  },
  {
   "cell_type": "code",
   "execution_count": 15,
   "id": "edfa80ad",
   "metadata": {
    "scrolled": true
   },
   "outputs": [
    {
     "data": {
      "text/plain": [
       "<function matplotlib.pyplot.show(close=None, block=None)>"
      ]
     },
     "execution_count": 15,
     "metadata": {},
     "output_type": "execute_result"
    },
    {
     "data": {
      "image/png": "[encoded data removed]",
      "text/plain": [
       "<Figure size 1440x1440 with 7 Axes>"
      ]
     },
     "metadata": {},
     "output_type": "display_data"
    }
   ],
   "source": [
    "plt.figure(figsize = (20,20), facecolor = 'white')\n",
    "plotnumber = 1\n",
    "\n",
    "for column in df:\n",
    "    if plotnumber <=12:\n",
    "        ax =  plt.subplot(4,3,plotnumber)\n",
    "        sns.distplot(df[column])\n",
    "        plt.xlabel(column, fontsize = 20)\n",
    "    plotnumber+=1\n",
    "plt.show"
   ]
  },
  {
   "cell_type": "markdown",
   "id": "782b9d48",
   "metadata": {},
   "source": [
    "Item_visibility is skewed and checked for outliers"
   ]
  },
  {
   "cell_type": "markdown",
   "id": "b44ea7a7",
   "metadata": {},
   "source": [
    "#### Detecting and treating outliers"
   ]
  },
  {
   "cell_type": "code",
   "execution_count": 16,
   "id": "d92a64c2",
   "metadata": {},
   "outputs": [
    {
     "data": {
      "image/png": "[encoded data removed]",
      "text/plain": [
       "<Figure size 1080x3600 with 7 Axes>"
      ]
     },
     "metadata": {
      "needs_background": "light"
     },
     "output_type": "display_data"
    }
   ],
   "source": [
    "plt.figure(figsize=(15,50))\n",
    "graph = 1\n",
    "for column in df:\n",
    "    if graph<=9:\n",
    "        ax = plt.subplot(3,3,graph)\n",
    "        sns.boxplot(df[column],orient = 'V')\n",
    "        plt.xlabel(column, fontsize=10)\n",
    "    graph+=1\n",
    "plt.show()"
   ]
  },
  {
   "cell_type": "markdown",
   "id": "ddb3d463",
   "metadata": {},
   "source": [
    "Item_visibility has outliers in higher side"
   ]
  },
  {
   "cell_type": "code",
   "execution_count": 17,
   "id": "44e947a4",
   "metadata": {
    "scrolled": true
   },
   "outputs": [
    {
     "name": "stdout",
     "output_type": "stream",
     "text": [
      "0.195979015\n",
      "(8379, 7)\n"
     ]
    },
    {
     "data": {
      "text/html": [
       "<div>\n",
       "<style scoped>\n",
       "    .dataframe tbody tr th:only-of-type {\n",
       "        vertical-align: middle;\n",
       "    }\n",
       "\n",
       "    .dataframe tbody tr th {\n",
       "        vertical-align: top;\n",
       "    }\n",
       "\n",
       "    .dataframe thead th {\n",
       "        text-align: right;\n",
       "    }\n",
       "</style>\n",
       "<table border=\"1\" class=\"dataframe\">\n",
       "  <thead>\n",
       "    <tr style=\"text-align: right;\">\n",
       "      <th></th>\n",
       "      <th>index</th>\n",
       "      <th>Item_Identifier</th>\n",
       "      <th>Item_Visibility</th>\n",
       "      <th>Item_Type</th>\n",
       "      <th>Item_MRP</th>\n",
       "      <th>Outlet_Identifier</th>\n",
       "      <th>Outlet_Location_Type</th>\n",
       "      <th>Item_Outlet_Sales</th>\n",
       "    </tr>\n",
       "  </thead>\n",
       "  <tbody>\n",
       "    <tr>\n",
       "      <th>0</th>\n",
       "      <td>0</td>\n",
       "      <td>156</td>\n",
       "      <td>0.016047</td>\n",
       "      <td>4</td>\n",
       "      <td>249.8092</td>\n",
       "      <td>9</td>\n",
       "      <td>0</td>\n",
       "      <td>3735.1380</td>\n",
       "    </tr>\n",
       "    <tr>\n",
       "      <th>1</th>\n",
       "      <td>1</td>\n",
       "      <td>8</td>\n",
       "      <td>0.019278</td>\n",
       "      <td>14</td>\n",
       "      <td>48.2692</td>\n",
       "      <td>3</td>\n",
       "      <td>2</td>\n",
       "      <td>443.4228</td>\n",
       "    </tr>\n",
       "    <tr>\n",
       "      <th>2</th>\n",
       "      <td>2</td>\n",
       "      <td>662</td>\n",
       "      <td>0.016760</td>\n",
       "      <td>10</td>\n",
       "      <td>141.6180</td>\n",
       "      <td>9</td>\n",
       "      <td>0</td>\n",
       "      <td>2097.2700</td>\n",
       "    </tr>\n",
       "    <tr>\n",
       "      <th>3</th>\n",
       "      <td>3</td>\n",
       "      <td>1121</td>\n",
       "      <td>0.000000</td>\n",
       "      <td>6</td>\n",
       "      <td>182.0950</td>\n",
       "      <td>0</td>\n",
       "      <td>2</td>\n",
       "      <td>732.3800</td>\n",
       "    </tr>\n",
       "    <tr>\n",
       "      <th>4</th>\n",
       "      <td>4</td>\n",
       "      <td>1297</td>\n",
       "      <td>0.000000</td>\n",
       "      <td>9</td>\n",
       "      <td>53.8614</td>\n",
       "      <td>1</td>\n",
       "      <td>2</td>\n",
       "      <td>994.7052</td>\n",
       "    </tr>\n",
       "    <tr>\n",
       "      <th>...</th>\n",
       "      <td>...</td>\n",
       "      <td>...</td>\n",
       "      <td>...</td>\n",
       "      <td>...</td>\n",
       "      <td>...</td>\n",
       "      <td>...</td>\n",
       "      <td>...</td>\n",
       "      <td>...</td>\n",
       "    </tr>\n",
       "    <tr>\n",
       "      <th>8374</th>\n",
       "      <td>8518</td>\n",
       "      <td>370</td>\n",
       "      <td>0.056783</td>\n",
       "      <td>13</td>\n",
       "      <td>214.5218</td>\n",
       "      <td>1</td>\n",
       "      <td>2</td>\n",
       "      <td>2778.3834</td>\n",
       "    </tr>\n",
       "    <tr>\n",
       "      <th>8375</th>\n",
       "      <td>8519</td>\n",
       "      <td>897</td>\n",
       "      <td>0.046982</td>\n",
       "      <td>0</td>\n",
       "      <td>108.1570</td>\n",
       "      <td>7</td>\n",
       "      <td>1</td>\n",
       "      <td>549.2850</td>\n",
       "    </tr>\n",
       "    <tr>\n",
       "      <th>8376</th>\n",
       "      <td>8520</td>\n",
       "      <td>1357</td>\n",
       "      <td>0.035186</td>\n",
       "      <td>8</td>\n",
       "      <td>85.1224</td>\n",
       "      <td>6</td>\n",
       "      <td>1</td>\n",
       "      <td>1193.1136</td>\n",
       "    </tr>\n",
       "    <tr>\n",
       "      <th>8377</th>\n",
       "      <td>8521</td>\n",
       "      <td>681</td>\n",
       "      <td>0.145221</td>\n",
       "      <td>13</td>\n",
       "      <td>103.1332</td>\n",
       "      <td>3</td>\n",
       "      <td>2</td>\n",
       "      <td>1845.5976</td>\n",
       "    </tr>\n",
       "    <tr>\n",
       "      <th>8378</th>\n",
       "      <td>8522</td>\n",
       "      <td>50</td>\n",
       "      <td>0.044878</td>\n",
       "      <td>14</td>\n",
       "      <td>75.4670</td>\n",
       "      <td>8</td>\n",
       "      <td>0</td>\n",
       "      <td>765.6700</td>\n",
       "    </tr>\n",
       "  </tbody>\n",
       "</table>\n",
       "<p>8379 rows × 8 columns</p>\n",
       "</div>"
      ],
      "text/plain": [
       "      index  Item_Identifier  Item_Visibility  Item_Type  Item_MRP  \\\n",
       "0         0              156         0.016047          4  249.8092   \n",
       "1         1                8         0.019278         14   48.2692   \n",
       "2         2              662         0.016760         10  141.6180   \n",
       "3         3             1121         0.000000          6  182.0950   \n",
       "4         4             1297         0.000000          9   53.8614   \n",
       "...     ...              ...              ...        ...       ...   \n",
       "8374   8518              370         0.056783         13  214.5218   \n",
       "8375   8519              897         0.046982          0  108.1570   \n",
       "8376   8520             1357         0.035186          8   85.1224   \n",
       "8377   8521              681         0.145221         13  103.1332   \n",
       "8378   8522               50         0.044878         14   75.4670   \n",
       "\n",
       "      Outlet_Identifier  Outlet_Location_Type  Item_Outlet_Sales  \n",
       "0                     9                     0          3735.1380  \n",
       "1                     3                     2           443.4228  \n",
       "2                     9                     0          2097.2700  \n",
       "3                     0                     2           732.3800  \n",
       "4                     1                     2           994.7052  \n",
       "...                 ...                   ...                ...  \n",
       "8374                  1                     2          2778.3834  \n",
       "8375                  7                     1           549.2850  \n",
       "8376                  6                     1          1193.1136  \n",
       "8377                  3                     2          1845.5976  \n",
       "8378                  8                     0           765.6700  \n",
       "\n",
       "[8379 rows x 8 columns]"
      ]
     },
     "execution_count": 17,
     "metadata": {},
     "output_type": "execute_result"
    }
   ],
   "source": [
    "q1 = df.quantile(0.25)\n",
    "q3 = df.quantile (0.75)\n",
    "iqr = q3 - q1\n",
    "\n",
    "vi_high = (q3.Item_Visibility + (1.5*iqr.Item_Visibility))\n",
    "print (vi_high)\n",
    "\n",
    "vi_out = np.where(df['Item_Visibility']>vi_high)\n",
    "\n",
    "df = df.drop(df.index[vi_out])\n",
    "print(df.shape)\n",
    "\n",
    "df.reset_index()"
   ]
  },
  {
   "cell_type": "markdown",
   "id": "55ec7afd",
   "metadata": {},
   "source": [
    "Outlier in Item_visibility is removed"
   ]
  },
  {
   "cell_type": "markdown",
   "id": "59cd6bfa",
   "metadata": {},
   "source": [
    "## Model Building"
   ]
  },
  {
   "cell_type": "code",
   "execution_count": 18,
   "id": "cae32757",
   "metadata": {},
   "outputs": [],
   "source": [
    "from sklearn.linear_model import LinearRegression\n",
    "from sklearn.model_selection import train_test_split"
   ]
  },
  {
   "cell_type": "code",
   "execution_count": 19,
   "id": "d761224e",
   "metadata": {},
   "outputs": [],
   "source": [
    "x = df.drop(columns = ['Item_Outlet_Sales'])\n",
    "y = df['Item_Outlet_Sales']"
   ]
  },
  {
   "cell_type": "markdown",
   "id": "33ebd752",
   "metadata": {},
   "source": [
    "### Relationship between independent and dependent variables"
   ]
  },
  {
   "cell_type": "code",
   "execution_count": 20,
   "id": "71dbf0c7",
   "metadata": {
    "scrolled": true
   },
   "outputs": [
    {
     "data": {
      "image/png": "[encoded data removed]",
      "text/plain": [
       "<Figure size 1440x2520 with 6 Axes>"
      ]
     },
     "metadata": {},
     "output_type": "display_data"
    }
   ],
   "source": [
    "plt.figure(figsize = (20,35), facecolor = 'white')\n",
    "plotnumber = 1\n",
    "\n",
    "for column in x:\n",
    "    if plotnumber<=15:\n",
    "        ax = plt.subplot(5,3,plotnumber)\n",
    "        plt.scatter(x[column],y)\n",
    "        plt.xlabel(column, fontsize = 20)\n",
    "        plt.ylabel('Sales', fontsize = 20)\n",
    "    plotnumber+=1\n",
    "plt.show()"
   ]
  },
  {
   "cell_type": "markdown",
   "id": "a6d6b7c9",
   "metadata": {},
   "source": [
    "The relationship looks fairly ok"
   ]
  },
  {
   "cell_type": "markdown",
   "id": "7ab2b6f3",
   "metadata": {},
   "source": [
    "## Cleaning up the test data"
   ]
  },
  {
   "cell_type": "code",
   "execution_count": 21,
   "id": "6bceb873",
   "metadata": {
    "scrolled": true
   },
   "outputs": [
    {
     "data": {
      "text/html": [
       "<div>\n",
       "<style scoped>\n",
       "    .dataframe tbody tr th:only-of-type {\n",
       "        vertical-align: middle;\n",
       "    }\n",
       "\n",
       "    .dataframe tbody tr th {\n",
       "        vertical-align: top;\n",
       "    }\n",
       "\n",
       "    .dataframe thead th {\n",
       "        text-align: right;\n",
       "    }\n",
       "</style>\n",
       "<table border=\"1\" class=\"dataframe\">\n",
       "  <thead>\n",
       "    <tr style=\"text-align: right;\">\n",
       "      <th></th>\n",
       "      <th>Item_Identifier</th>\n",
       "      <th>Item_Weight</th>\n",
       "      <th>Item_Fat_Content</th>\n",
       "      <th>Item_Visibility</th>\n",
       "      <th>Item_Type</th>\n",
       "      <th>Item_MRP</th>\n",
       "      <th>Outlet_Identifier</th>\n",
       "      <th>Outlet_Establishment_Year</th>\n",
       "      <th>Outlet_Size</th>\n",
       "      <th>Outlet_Location_Type</th>\n",
       "      <th>Outlet_Type</th>\n",
       "    </tr>\n",
       "  </thead>\n",
       "  <tbody>\n",
       "    <tr>\n",
       "      <th>0</th>\n",
       "      <td>FDW58</td>\n",
       "      <td>20.750</td>\n",
       "      <td>Low Fat</td>\n",
       "      <td>0.007565</td>\n",
       "      <td>Snack Foods</td>\n",
       "      <td>107.8622</td>\n",
       "      <td>OUT049</td>\n",
       "      <td>1999</td>\n",
       "      <td>Medium</td>\n",
       "      <td>Tier 1</td>\n",
       "      <td>Supermarket Type1</td>\n",
       "    </tr>\n",
       "    <tr>\n",
       "      <th>1</th>\n",
       "      <td>FDW14</td>\n",
       "      <td>8.300</td>\n",
       "      <td>reg</td>\n",
       "      <td>0.038428</td>\n",
       "      <td>Dairy</td>\n",
       "      <td>87.3198</td>\n",
       "      <td>OUT017</td>\n",
       "      <td>2007</td>\n",
       "      <td>NaN</td>\n",
       "      <td>Tier 2</td>\n",
       "      <td>Supermarket Type1</td>\n",
       "    </tr>\n",
       "    <tr>\n",
       "      <th>2</th>\n",
       "      <td>NCN55</td>\n",
       "      <td>14.600</td>\n",
       "      <td>Low Fat</td>\n",
       "      <td>0.099575</td>\n",
       "      <td>Others</td>\n",
       "      <td>241.7538</td>\n",
       "      <td>OUT010</td>\n",
       "      <td>1998</td>\n",
       "      <td>NaN</td>\n",
       "      <td>Tier 3</td>\n",
       "      <td>Grocery Store</td>\n",
       "    </tr>\n",
       "    <tr>\n",
       "      <th>3</th>\n",
       "      <td>FDQ58</td>\n",
       "      <td>7.315</td>\n",
       "      <td>Low Fat</td>\n",
       "      <td>0.015388</td>\n",
       "      <td>Snack Foods</td>\n",
       "      <td>155.0340</td>\n",
       "      <td>OUT017</td>\n",
       "      <td>2007</td>\n",
       "      <td>NaN</td>\n",
       "      <td>Tier 2</td>\n",
       "      <td>Supermarket Type1</td>\n",
       "    </tr>\n",
       "    <tr>\n",
       "      <th>4</th>\n",
       "      <td>FDY38</td>\n",
       "      <td>NaN</td>\n",
       "      <td>Regular</td>\n",
       "      <td>0.118599</td>\n",
       "      <td>Dairy</td>\n",
       "      <td>234.2300</td>\n",
       "      <td>OUT027</td>\n",
       "      <td>1985</td>\n",
       "      <td>Medium</td>\n",
       "      <td>Tier 3</td>\n",
       "      <td>Supermarket Type3</td>\n",
       "    </tr>\n",
       "    <tr>\n",
       "      <th>...</th>\n",
       "      <td>...</td>\n",
       "      <td>...</td>\n",
       "      <td>...</td>\n",
       "      <td>...</td>\n",
       "      <td>...</td>\n",
       "      <td>...</td>\n",
       "      <td>...</td>\n",
       "      <td>...</td>\n",
       "      <td>...</td>\n",
       "      <td>...</td>\n",
       "      <td>...</td>\n",
       "    </tr>\n",
       "    <tr>\n",
       "      <th>5676</th>\n",
       "      <td>FDB58</td>\n",
       "      <td>10.500</td>\n",
       "      <td>Regular</td>\n",
       "      <td>0.013496</td>\n",
       "      <td>Snack Foods</td>\n",
       "      <td>141.3154</td>\n",
       "      <td>OUT046</td>\n",
       "      <td>1997</td>\n",
       "      <td>Small</td>\n",
       "      <td>Tier 1</td>\n",
       "      <td>Supermarket Type1</td>\n",
       "    </tr>\n",
       "    <tr>\n",
       "      <th>5677</th>\n",
       "      <td>FDD47</td>\n",
       "      <td>7.600</td>\n",
       "      <td>Regular</td>\n",
       "      <td>0.142991</td>\n",
       "      <td>Starchy Foods</td>\n",
       "      <td>169.1448</td>\n",
       "      <td>OUT018</td>\n",
       "      <td>2009</td>\n",
       "      <td>Medium</td>\n",
       "      <td>Tier 3</td>\n",
       "      <td>Supermarket Type2</td>\n",
       "    </tr>\n",
       "    <tr>\n",
       "      <th>5678</th>\n",
       "      <td>NCO17</td>\n",
       "      <td>10.000</td>\n",
       "      <td>Low Fat</td>\n",
       "      <td>0.073529</td>\n",
       "      <td>Health and Hygiene</td>\n",
       "      <td>118.7440</td>\n",
       "      <td>OUT045</td>\n",
       "      <td>2002</td>\n",
       "      <td>NaN</td>\n",
       "      <td>Tier 2</td>\n",
       "      <td>Supermarket Type1</td>\n",
       "    </tr>\n",
       "    <tr>\n",
       "      <th>5679</th>\n",
       "      <td>FDJ26</td>\n",
       "      <td>15.300</td>\n",
       "      <td>Regular</td>\n",
       "      <td>0.000000</td>\n",
       "      <td>Canned</td>\n",
       "      <td>214.6218</td>\n",
       "      <td>OUT017</td>\n",
       "      <td>2007</td>\n",
       "      <td>NaN</td>\n",
       "      <td>Tier 2</td>\n",
       "      <td>Supermarket Type1</td>\n",
       "    </tr>\n",
       "    <tr>\n",
       "      <th>5680</th>\n",
       "      <td>FDU37</td>\n",
       "      <td>9.500</td>\n",
       "      <td>Regular</td>\n",
       "      <td>0.104720</td>\n",
       "      <td>Canned</td>\n",
       "      <td>79.7960</td>\n",
       "      <td>OUT045</td>\n",
       "      <td>2002</td>\n",
       "      <td>NaN</td>\n",
       "      <td>Tier 2</td>\n",
       "      <td>Supermarket Type1</td>\n",
       "    </tr>\n",
       "  </tbody>\n",
       "</table>\n",
       "<p>5681 rows × 11 columns</p>\n",
       "</div>"
      ],
      "text/plain": [
       "     Item_Identifier  Item_Weight Item_Fat_Content  Item_Visibility  \\\n",
       "0              FDW58       20.750          Low Fat         0.007565   \n",
       "1              FDW14        8.300              reg         0.038428   \n",
       "2              NCN55       14.600          Low Fat         0.099575   \n",
       "3              FDQ58        7.315          Low Fat         0.015388   \n",
       "4              FDY38          NaN          Regular         0.118599   \n",
       "...              ...          ...              ...              ...   \n",
       "5676           FDB58       10.500          Regular         0.013496   \n",
       "5677           FDD47        7.600          Regular         0.142991   \n",
       "5678           NCO17       10.000          Low Fat         0.073529   \n",
       "5679           FDJ26       15.300          Regular         0.000000   \n",
       "5680           FDU37        9.500          Regular         0.104720   \n",
       "\n",
       "               Item_Type  Item_MRP Outlet_Identifier  \\\n",
       "0            Snack Foods  107.8622            OUT049   \n",
       "1                  Dairy   87.3198            OUT017   \n",
       "2                 Others  241.7538            OUT010   \n",
       "3            Snack Foods  155.0340            OUT017   \n",
       "4                  Dairy  234.2300            OUT027   \n",
       "...                  ...       ...               ...   \n",
       "5676         Snack Foods  141.3154            OUT046   \n",
       "5677       Starchy Foods  169.1448            OUT018   \n",
       "5678  Health and Hygiene  118.7440            OUT045   \n",
       "5679              Canned  214.6218            OUT017   \n",
       "5680              Canned   79.7960            OUT045   \n",
       "\n",
       "      Outlet_Establishment_Year Outlet_Size Outlet_Location_Type  \\\n",
       "0                          1999      Medium               Tier 1   \n",
       "1                          2007         NaN               Tier 2   \n",
       "2                          1998         NaN               Tier 3   \n",
       "3                          2007         NaN               Tier 2   \n",
       "4                          1985      Medium               Tier 3   \n",
       "...                         ...         ...                  ...   \n",
       "5676                       1997       Small               Tier 1   \n",
       "5677                       2009      Medium               Tier 3   \n",
       "5678                       2002         NaN               Tier 2   \n",
       "5679                       2007         NaN               Tier 2   \n",
       "5680                       2002         NaN               Tier 2   \n",
       "\n",
       "            Outlet_Type  \n",
       "0     Supermarket Type1  \n",
       "1     Supermarket Type1  \n",
       "2         Grocery Store  \n",
       "3     Supermarket Type1  \n",
       "4     Supermarket Type3  \n",
       "...                 ...  \n",
       "5676  Supermarket Type1  \n",
       "5677  Supermarket Type2  \n",
       "5678  Supermarket Type1  \n",
       "5679  Supermarket Type1  \n",
       "5680  Supermarket Type1  \n",
       "\n",
       "[5681 rows x 11 columns]"
      ]
     },
     "execution_count": 21,
     "metadata": {},
     "output_type": "execute_result"
    }
   ],
   "source": [
    "df_test = pd.read_csv(r\"C:\\Users\\Lenovo\\Desktop\\DS\\Project\\bigdatamart_Test.txt\")\n",
    "df_test"
   ]
  },
  {
   "cell_type": "code",
   "execution_count": 22,
   "id": "cfc289f8",
   "metadata": {},
   "outputs": [],
   "source": [
    "df_test = df_test.drop(['Item_Weight', 'Item_Fat_Content', 'Outlet_Establishment_Year', 'Outlet_Type','Outlet_Size'], axis=1)"
   ]
  },
  {
   "cell_type": "code",
   "execution_count": 23,
   "id": "05820137",
   "metadata": {},
   "outputs": [
    {
     "data": {
      "text/html": [
       "<div>\n",
       "<style scoped>\n",
       "    .dataframe tbody tr th:only-of-type {\n",
       "        vertical-align: middle;\n",
       "    }\n",
       "\n",
       "    .dataframe tbody tr th {\n",
       "        vertical-align: top;\n",
       "    }\n",
       "\n",
       "    .dataframe thead th {\n",
       "        text-align: right;\n",
       "    }\n",
       "</style>\n",
       "<table border=\"1\" class=\"dataframe\">\n",
       "  <thead>\n",
       "    <tr style=\"text-align: right;\">\n",
       "      <th></th>\n",
       "      <th>Item_Identifier</th>\n",
       "      <th>Item_Visibility</th>\n",
       "      <th>Item_Type</th>\n",
       "      <th>Item_MRP</th>\n",
       "      <th>Outlet_Identifier</th>\n",
       "      <th>Outlet_Location_Type</th>\n",
       "    </tr>\n",
       "  </thead>\n",
       "  <tbody>\n",
       "    <tr>\n",
       "      <th>0</th>\n",
       "      <td>1103</td>\n",
       "      <td>0.007565</td>\n",
       "      <td>13</td>\n",
       "      <td>107.8622</td>\n",
       "      <td>9</td>\n",
       "      <td>0</td>\n",
       "    </tr>\n",
       "    <tr>\n",
       "      <th>1</th>\n",
       "      <td>1067</td>\n",
       "      <td>0.038428</td>\n",
       "      <td>4</td>\n",
       "      <td>87.3198</td>\n",
       "      <td>2</td>\n",
       "      <td>1</td>\n",
       "    </tr>\n",
       "    <tr>\n",
       "      <th>2</th>\n",
       "      <td>1406</td>\n",
       "      <td>0.099575</td>\n",
       "      <td>11</td>\n",
       "      <td>241.7538</td>\n",
       "      <td>0</td>\n",
       "      <td>2</td>\n",
       "    </tr>\n",
       "    <tr>\n",
       "      <th>3</th>\n",
       "      <td>809</td>\n",
       "      <td>0.015388</td>\n",
       "      <td>13</td>\n",
       "      <td>155.0340</td>\n",
       "      <td>2</td>\n",
       "      <td>1</td>\n",
       "    </tr>\n",
       "    <tr>\n",
       "      <th>4</th>\n",
       "      <td>1184</td>\n",
       "      <td>0.118599</td>\n",
       "      <td>4</td>\n",
       "      <td>234.2300</td>\n",
       "      <td>5</td>\n",
       "      <td>2</td>\n",
       "    </tr>\n",
       "  </tbody>\n",
       "</table>\n",
       "</div>"
      ],
      "text/plain": [
       "   Item_Identifier  Item_Visibility  Item_Type  Item_MRP  Outlet_Identifier  \\\n",
       "0             1103         0.007565         13  107.8622                  9   \n",
       "1             1067         0.038428          4   87.3198                  2   \n",
       "2             1406         0.099575         11  241.7538                  0   \n",
       "3              809         0.015388         13  155.0340                  2   \n",
       "4             1184         0.118599          4  234.2300                  5   \n",
       "\n",
       "   Outlet_Location_Type  \n",
       "0                     0  \n",
       "1                     1  \n",
       "2                     2  \n",
       "3                     1  \n",
       "4                     2  "
      ]
     },
     "execution_count": 23,
     "metadata": {},
     "output_type": "execute_result"
    }
   ],
   "source": [
    "it_ty = lab_enc.fit_transform (df_test['Item_Type'])\n",
    "pd.Series(it_ty)\n",
    "df_test['Item_Type'] = it_ty\n",
    "it_id = lab_enc.fit_transform (df_test['Item_Identifier'])\n",
    "pd.Series(it_id)\n",
    "df_test['Item_Identifier'] = it_id\n",
    "out_id = lab_enc.fit_transform (df_test['Outlet_Identifier'])\n",
    "pd.Series(out_id)\n",
    "df_test['Outlet_Identifier'] = out_id\n",
    "out_loc = lab_enc.fit_transform (df_test['Outlet_Location_Type'])\n",
    "pd.Series(out_loc)\n",
    "df_test['Outlet_Location_Type'] = out_loc\n",
    "df_test.head()"
   ]
  },
  {
   "cell_type": "code",
   "execution_count": 24,
   "id": "dd9e547f",
   "metadata": {},
   "outputs": [
    {
     "data": {
      "text/plain": [
       "(5681, 6)"
      ]
     },
     "execution_count": 24,
     "metadata": {},
     "output_type": "execute_result"
    }
   ],
   "source": [
    "df_test.shape"
   ]
  },
  {
   "cell_type": "markdown",
   "id": "c36a6913",
   "metadata": {},
   "source": [
    "#### The test data is imported and cleaned to predict the sales value"
   ]
  },
  {
   "cell_type": "code",
   "execution_count": 25,
   "id": "19a41999",
   "metadata": {},
   "outputs": [],
   "source": [
    "x_test = df_test"
   ]
  },
  {
   "cell_type": "markdown",
   "id": "f881e21f",
   "metadata": {},
   "source": [
    "## Standardisation"
   ]
  },
  {
   "cell_type": "code",
   "execution_count": 26,
   "id": "e195fa87",
   "metadata": {},
   "outputs": [],
   "source": [
    "from sklearn.preprocessing import StandardScaler\n",
    "scaler = StandardScaler()"
   ]
  },
  {
   "cell_type": "code",
   "execution_count": 27,
   "id": "b60a81b8",
   "metadata": {},
   "outputs": [],
   "source": [
    "x = scaler.fit_transform(x)"
   ]
  },
  {
   "cell_type": "code",
   "execution_count": 28,
   "id": "29a14b4d",
   "metadata": {},
   "outputs": [
    {
     "data": {
      "text/plain": [
       "array([[ 0.73989552, -1.13407715,  1.36691643, -0.53655526,  1.50768894,\n",
       "        -1.369215  ],\n",
       "       [ 0.65908503, -0.53185019, -0.76644957, -0.86893692, -0.95974865,\n",
       "        -0.1388274 ],\n",
       "       [ 1.42005049,  0.6613164 ,  0.89283509,  1.62984753, -1.66473082,\n",
       "         1.0915602 ],\n",
       "       ...,\n",
       "       [ 1.43351891,  0.15307374,  0.1817131 , -0.36048475,  0.80270677,\n",
       "        -0.1388274 ],\n",
       "       [-0.57551969, -1.28168987, -1.00349023,  1.19084433, -0.95974865,\n",
       "        -0.1388274 ],\n",
       "       [ 0.47950616,  0.76171558, -1.00349023, -0.99067406,  0.80270677,\n",
       "        -0.1388274 ]])"
      ]
     },
     "execution_count": 28,
     "metadata": {},
     "output_type": "execute_result"
    }
   ],
   "source": [
    "x_test = scaler.fit_transform(x_test)\n",
    "x_test"
   ]
  },
  {
   "cell_type": "code",
   "execution_count": 29,
   "id": "d5a7a58d",
   "metadata": {},
   "outputs": [
    {
     "data": {
      "text/plain": [
       "(5681, 6)"
      ]
     },
     "execution_count": 29,
     "metadata": {},
     "output_type": "execute_result"
    }
   ],
   "source": [
    "type(x_test)\n",
    "x_test.shape"
   ]
  },
  {
   "cell_type": "code",
   "execution_count": 30,
   "id": "19328699",
   "metadata": {},
   "outputs": [
    {
     "data": {
      "text/html": [
       "<div>\n",
       "<style scoped>\n",
       "    .dataframe tbody tr th:only-of-type {\n",
       "        vertical-align: middle;\n",
       "    }\n",
       "\n",
       "    .dataframe tbody tr th {\n",
       "        vertical-align: top;\n",
       "    }\n",
       "\n",
       "    .dataframe thead th {\n",
       "        text-align: right;\n",
       "    }\n",
       "</style>\n",
       "<table border=\"1\" class=\"dataframe\">\n",
       "  <thead>\n",
       "    <tr style=\"text-align: right;\">\n",
       "      <th></th>\n",
       "      <th>Item_Identifier</th>\n",
       "      <th>Item_Visibility</th>\n",
       "      <th>Item_Type</th>\n",
       "      <th>Item_MRP</th>\n",
       "      <th>Outlet_Identifier</th>\n",
       "      <th>Outlet_Location_Type</th>\n",
       "    </tr>\n",
       "  </thead>\n",
       "  <tbody>\n",
       "    <tr>\n",
       "      <th>0</th>\n",
       "      <td>0.739896</td>\n",
       "      <td>-1.134077</td>\n",
       "      <td>1.366916</td>\n",
       "      <td>-0.536555</td>\n",
       "      <td>1.507689</td>\n",
       "      <td>-1.369215</td>\n",
       "    </tr>\n",
       "    <tr>\n",
       "      <th>1</th>\n",
       "      <td>0.659085</td>\n",
       "      <td>-0.531850</td>\n",
       "      <td>-0.766450</td>\n",
       "      <td>-0.868937</td>\n",
       "      <td>-0.959749</td>\n",
       "      <td>-0.138827</td>\n",
       "    </tr>\n",
       "    <tr>\n",
       "      <th>2</th>\n",
       "      <td>1.420050</td>\n",
       "      <td>0.661316</td>\n",
       "      <td>0.892835</td>\n",
       "      <td>1.629848</td>\n",
       "      <td>-1.664731</td>\n",
       "      <td>1.091560</td>\n",
       "    </tr>\n",
       "    <tr>\n",
       "      <th>3</th>\n",
       "      <td>0.079943</td>\n",
       "      <td>-0.981416</td>\n",
       "      <td>1.366916</td>\n",
       "      <td>0.226697</td>\n",
       "      <td>-0.959749</td>\n",
       "      <td>-0.138827</td>\n",
       "    </tr>\n",
       "    <tr>\n",
       "      <th>4</th>\n",
       "      <td>0.921719</td>\n",
       "      <td>1.032540</td>\n",
       "      <td>-0.766450</td>\n",
       "      <td>1.508110</td>\n",
       "      <td>0.097725</td>\n",
       "      <td>1.091560</td>\n",
       "    </tr>\n",
       "    <tr>\n",
       "      <th>...</th>\n",
       "      <td>...</td>\n",
       "      <td>...</td>\n",
       "      <td>...</td>\n",
       "      <td>...</td>\n",
       "      <td>...</td>\n",
       "      <td>...</td>\n",
       "    </tr>\n",
       "    <tr>\n",
       "      <th>5676</th>\n",
       "      <td>-1.217514</td>\n",
       "      <td>-1.018333</td>\n",
       "      <td>1.366916</td>\n",
       "      <td>0.004727</td>\n",
       "      <td>1.155198</td>\n",
       "      <td>-1.369215</td>\n",
       "    </tr>\n",
       "    <tr>\n",
       "      <th>5677</th>\n",
       "      <td>-1.049159</td>\n",
       "      <td>1.508493</td>\n",
       "      <td>1.840998</td>\n",
       "      <td>0.455014</td>\n",
       "      <td>-0.607258</td>\n",
       "      <td>1.091560</td>\n",
       "    </tr>\n",
       "    <tr>\n",
       "      <th>5678</th>\n",
       "      <td>1.433519</td>\n",
       "      <td>0.153074</td>\n",
       "      <td>0.181713</td>\n",
       "      <td>-0.360485</td>\n",
       "      <td>0.802707</td>\n",
       "      <td>-0.138827</td>\n",
       "    </tr>\n",
       "    <tr>\n",
       "      <th>5679</th>\n",
       "      <td>-0.575520</td>\n",
       "      <td>-1.281690</td>\n",
       "      <td>-1.003490</td>\n",
       "      <td>1.190844</td>\n",
       "      <td>-0.959749</td>\n",
       "      <td>-0.138827</td>\n",
       "    </tr>\n",
       "    <tr>\n",
       "      <th>5680</th>\n",
       "      <td>0.479506</td>\n",
       "      <td>0.761716</td>\n",
       "      <td>-1.003490</td>\n",
       "      <td>-0.990674</td>\n",
       "      <td>0.802707</td>\n",
       "      <td>-0.138827</td>\n",
       "    </tr>\n",
       "  </tbody>\n",
       "</table>\n",
       "<p>5681 rows × 6 columns</p>\n",
       "</div>"
      ],
      "text/plain": [
       "      Item_Identifier  Item_Visibility  Item_Type  Item_MRP  \\\n",
       "0            0.739896        -1.134077   1.366916 -0.536555   \n",
       "1            0.659085        -0.531850  -0.766450 -0.868937   \n",
       "2            1.420050         0.661316   0.892835  1.629848   \n",
       "3            0.079943        -0.981416   1.366916  0.226697   \n",
       "4            0.921719         1.032540  -0.766450  1.508110   \n",
       "...               ...              ...        ...       ...   \n",
       "5676        -1.217514        -1.018333   1.366916  0.004727   \n",
       "5677        -1.049159         1.508493   1.840998  0.455014   \n",
       "5678         1.433519         0.153074   0.181713 -0.360485   \n",
       "5679        -0.575520        -1.281690  -1.003490  1.190844   \n",
       "5680         0.479506         0.761716  -1.003490 -0.990674   \n",
       "\n",
       "      Outlet_Identifier  Outlet_Location_Type  \n",
       "0              1.507689             -1.369215  \n",
       "1             -0.959749             -0.138827  \n",
       "2             -1.664731              1.091560  \n",
       "3             -0.959749             -0.138827  \n",
       "4              0.097725              1.091560  \n",
       "...                 ...                   ...  \n",
       "5676           1.155198             -1.369215  \n",
       "5677          -0.607258              1.091560  \n",
       "5678           0.802707             -0.138827  \n",
       "5679          -0.959749             -0.138827  \n",
       "5680           0.802707             -0.138827  \n",
       "\n",
       "[5681 rows x 6 columns]"
      ]
     },
     "execution_count": 30,
     "metadata": {},
     "output_type": "execute_result"
    }
   ],
   "source": [
    "x_test = pd.DataFrame({'Item_Identifier':x_test[:,0],'Item_Visibility':x_test[:,1],'Item_Type':x_test[:,2],'Item_MRP':x_test[:,3],'Outlet_Identifier':x_test[:,4],'Outlet_Location_Type':x_test[:,5]})\n",
    "x_test"
   ]
  },
  {
   "cell_type": "markdown",
   "id": "6980cdcc",
   "metadata": {},
   "source": [
    "Thus the data is standardised"
   ]
  },
  {
   "cell_type": "markdown",
   "id": "828065e7",
   "metadata": {},
   "source": [
    "### Linear Regression"
   ]
  },
  {
   "cell_type": "code",
   "execution_count": 31,
   "id": "a17f0527",
   "metadata": {},
   "outputs": [
    {
     "name": "stdout",
     "output_type": "stream",
     "text": [
      "0.4342933332614365\n"
     ]
    }
   ],
   "source": [
    "from sklearn.linear_model import LinearRegression\n",
    "\n",
    "# Training score\n",
    "LR = LinearRegression()\n",
    "LR.fit(x,y)\n",
    "print(LR.score(x,y))\n",
    "\n",
    "#Testing score\n",
    "y_test = LR.predict(x_test)\n",
    "y_pred = pd.DataFrame({'Predicted_Item_Outlet_Sales':y_test})"
   ]
  },
  {
   "cell_type": "code",
   "execution_count": 32,
   "id": "4fa2a66a",
   "metadata": {},
   "outputs": [
    {
     "data": {
      "text/html": [
       "<div>\n",
       "<style scoped>\n",
       "    .dataframe tbody tr th:only-of-type {\n",
       "        vertical-align: middle;\n",
       "    }\n",
       "\n",
       "    .dataframe tbody tr th {\n",
       "        vertical-align: top;\n",
       "    }\n",
       "\n",
       "    .dataframe thead th {\n",
       "        text-align: right;\n",
       "    }\n",
       "</style>\n",
       "<table border=\"1\" class=\"dataframe\">\n",
       "  <thead>\n",
       "    <tr style=\"text-align: right;\">\n",
       "      <th></th>\n",
       "      <th>Item_Identifier</th>\n",
       "      <th>Item_Visibility</th>\n",
       "      <th>Item_Type</th>\n",
       "      <th>Item_MRP</th>\n",
       "      <th>Outlet_Identifier</th>\n",
       "      <th>Outlet_Location_Type</th>\n",
       "      <th>Predicted_Item_Outlet_Sales</th>\n",
       "    </tr>\n",
       "  </thead>\n",
       "  <tbody>\n",
       "    <tr>\n",
       "      <th>0</th>\n",
       "      <td>0.739896</td>\n",
       "      <td>-1.134077</td>\n",
       "      <td>1.366916</td>\n",
       "      <td>-0.536555</td>\n",
       "      <td>1.507689</td>\n",
       "      <td>-1.369215</td>\n",
       "      <td>1938.583883</td>\n",
       "    </tr>\n",
       "    <tr>\n",
       "      <th>1</th>\n",
       "      <td>0.659085</td>\n",
       "      <td>-0.531850</td>\n",
       "      <td>-0.766450</td>\n",
       "      <td>-0.868937</td>\n",
       "      <td>-0.959749</td>\n",
       "      <td>-0.138827</td>\n",
       "      <td>600.241713</td>\n",
       "    </tr>\n",
       "    <tr>\n",
       "      <th>2</th>\n",
       "      <td>1.420050</td>\n",
       "      <td>0.661316</td>\n",
       "      <td>0.892835</td>\n",
       "      <td>1.629848</td>\n",
       "      <td>-1.664731</td>\n",
       "      <td>1.091560</td>\n",
       "      <td>3258.475305</td>\n",
       "    </tr>\n",
       "    <tr>\n",
       "      <th>3</th>\n",
       "      <td>0.079943</td>\n",
       "      <td>-0.981416</td>\n",
       "      <td>1.366916</td>\n",
       "      <td>0.226697</td>\n",
       "      <td>-0.959749</td>\n",
       "      <td>-0.138827</td>\n",
       "      <td>1697.187222</td>\n",
       "    </tr>\n",
       "    <tr>\n",
       "      <th>4</th>\n",
       "      <td>0.921719</td>\n",
       "      <td>1.032540</td>\n",
       "      <td>-0.766450</td>\n",
       "      <td>1.508110</td>\n",
       "      <td>0.097725</td>\n",
       "      <td>1.091560</td>\n",
       "      <td>4424.262025</td>\n",
       "    </tr>\n",
       "    <tr>\n",
       "      <th>...</th>\n",
       "      <td>...</td>\n",
       "      <td>...</td>\n",
       "      <td>...</td>\n",
       "      <td>...</td>\n",
       "      <td>...</td>\n",
       "      <td>...</td>\n",
       "      <td>...</td>\n",
       "    </tr>\n",
       "    <tr>\n",
       "      <th>5676</th>\n",
       "      <td>-1.217514</td>\n",
       "      <td>-1.018333</td>\n",
       "      <td>1.366916</td>\n",
       "      <td>0.004727</td>\n",
       "      <td>1.155198</td>\n",
       "      <td>-1.369215</td>\n",
       "      <td>2215.649996</td>\n",
       "    </tr>\n",
       "    <tr>\n",
       "      <th>5677</th>\n",
       "      <td>-1.049159</td>\n",
       "      <td>1.508493</td>\n",
       "      <td>1.840998</td>\n",
       "      <td>0.455014</td>\n",
       "      <td>-0.607258</td>\n",
       "      <td>1.091560</td>\n",
       "      <td>2834.969161</td>\n",
       "    </tr>\n",
       "    <tr>\n",
       "      <th>5678</th>\n",
       "      <td>1.433519</td>\n",
       "      <td>0.153074</td>\n",
       "      <td>0.181713</td>\n",
       "      <td>-0.360485</td>\n",
       "      <td>0.802707</td>\n",
       "      <td>-0.138827</td>\n",
       "      <td>2333.229731</td>\n",
       "    </tr>\n",
       "    <tr>\n",
       "      <th>5679</th>\n",
       "      <td>-0.575520</td>\n",
       "      <td>-1.281690</td>\n",
       "      <td>-1.003490</td>\n",
       "      <td>1.190844</td>\n",
       "      <td>-0.959749</td>\n",
       "      <td>-0.138827</td>\n",
       "      <td>2685.322917</td>\n",
       "    </tr>\n",
       "    <tr>\n",
       "      <th>5680</th>\n",
       "      <td>0.479506</td>\n",
       "      <td>0.761716</td>\n",
       "      <td>-1.003490</td>\n",
       "      <td>-0.990674</td>\n",
       "      <td>0.802707</td>\n",
       "      <td>-0.138827</td>\n",
       "      <td>1685.730651</td>\n",
       "    </tr>\n",
       "  </tbody>\n",
       "</table>\n",
       "<p>5681 rows × 7 columns</p>\n",
       "</div>"
      ],
      "text/plain": [
       "      Item_Identifier  Item_Visibility  Item_Type  Item_MRP  \\\n",
       "0            0.739896        -1.134077   1.366916 -0.536555   \n",
       "1            0.659085        -0.531850  -0.766450 -0.868937   \n",
       "2            1.420050         0.661316   0.892835  1.629848   \n",
       "3            0.079943        -0.981416   1.366916  0.226697   \n",
       "4            0.921719         1.032540  -0.766450  1.508110   \n",
       "...               ...              ...        ...       ...   \n",
       "5676        -1.217514        -1.018333   1.366916  0.004727   \n",
       "5677        -1.049159         1.508493   1.840998  0.455014   \n",
       "5678         1.433519         0.153074   0.181713 -0.360485   \n",
       "5679        -0.575520        -1.281690  -1.003490  1.190844   \n",
       "5680         0.479506         0.761716  -1.003490 -0.990674   \n",
       "\n",
       "      Outlet_Identifier  Outlet_Location_Type  Predicted_Item_Outlet_Sales  \n",
       "0              1.507689             -1.369215                  1938.583883  \n",
       "1             -0.959749             -0.138827                   600.241713  \n",
       "2             -1.664731              1.091560                  3258.475305  \n",
       "3             -0.959749             -0.138827                  1697.187222  \n",
       "4              0.097725              1.091560                  4424.262025  \n",
       "...                 ...                   ...                          ...  \n",
       "5676           1.155198             -1.369215                  2215.649996  \n",
       "5677          -0.607258              1.091560                  2834.969161  \n",
       "5678           0.802707             -0.138827                  2333.229731  \n",
       "5679          -0.959749             -0.138827                  2685.322917  \n",
       "5680           0.802707             -0.138827                  1685.730651  \n",
       "\n",
       "[5681 rows x 7 columns]"
      ]
     },
     "execution_count": 32,
     "metadata": {},
     "output_type": "execute_result"
    }
   ],
   "source": [
    "x_test.join(y_pred)"
   ]
  },
  {
   "cell_type": "markdown",
   "id": "e4a01815",
   "metadata": {},
   "source": [
    "### Decision tree Regressor"
   ]
  },
  {
   "cell_type": "code",
   "execution_count": 33,
   "id": "1f9b840e",
   "metadata": {},
   "outputs": [
    {
     "name": "stdout",
     "output_type": "stream",
     "text": [
      "1.0\n"
     ]
    },
    {
     "data": {
      "text/html": [
       "<div>\n",
       "<style scoped>\n",
       "    .dataframe tbody tr th:only-of-type {\n",
       "        vertical-align: middle;\n",
       "    }\n",
       "\n",
       "    .dataframe tbody tr th {\n",
       "        vertical-align: top;\n",
       "    }\n",
       "\n",
       "    .dataframe thead th {\n",
       "        text-align: right;\n",
       "    }\n",
       "</style>\n",
       "<table border=\"1\" class=\"dataframe\">\n",
       "  <thead>\n",
       "    <tr style=\"text-align: right;\">\n",
       "      <th></th>\n",
       "      <th>Item_Identifier</th>\n",
       "      <th>Item_Visibility</th>\n",
       "      <th>Item_Type</th>\n",
       "      <th>Item_MRP</th>\n",
       "      <th>Outlet_Identifier</th>\n",
       "      <th>Outlet_Location_Type</th>\n",
       "      <th>Predicted_Item_Outlet_Sales</th>\n",
       "    </tr>\n",
       "  </thead>\n",
       "  <tbody>\n",
       "    <tr>\n",
       "      <th>0</th>\n",
       "      <td>0.739896</td>\n",
       "      <td>-1.134077</td>\n",
       "      <td>1.366916</td>\n",
       "      <td>-0.536555</td>\n",
       "      <td>1.507689</td>\n",
       "      <td>-1.369215</td>\n",
       "      <td>1965.4416</td>\n",
       "    </tr>\n",
       "    <tr>\n",
       "      <th>1</th>\n",
       "      <td>0.659085</td>\n",
       "      <td>-0.531850</td>\n",
       "      <td>-0.766450</td>\n",
       "      <td>-0.868937</td>\n",
       "      <td>-0.959749</td>\n",
       "      <td>-0.138827</td>\n",
       "      <td>713.0718</td>\n",
       "    </tr>\n",
       "    <tr>\n",
       "      <th>2</th>\n",
       "      <td>1.420050</td>\n",
       "      <td>0.661316</td>\n",
       "      <td>0.892835</td>\n",
       "      <td>1.629848</td>\n",
       "      <td>-1.664731</td>\n",
       "      <td>1.091560</td>\n",
       "      <td>723.0588</td>\n",
       "    </tr>\n",
       "    <tr>\n",
       "      <th>3</th>\n",
       "      <td>0.079943</td>\n",
       "      <td>-0.981416</td>\n",
       "      <td>1.366916</td>\n",
       "      <td>0.226697</td>\n",
       "      <td>-0.959749</td>\n",
       "      <td>-0.138827</td>\n",
       "      <td>620.5256</td>\n",
       "    </tr>\n",
       "    <tr>\n",
       "      <th>4</th>\n",
       "      <td>0.921719</td>\n",
       "      <td>1.032540</td>\n",
       "      <td>-0.766450</td>\n",
       "      <td>1.508110</td>\n",
       "      <td>0.097725</td>\n",
       "      <td>1.091560</td>\n",
       "      <td>5359.6900</td>\n",
       "    </tr>\n",
       "    <tr>\n",
       "      <th>...</th>\n",
       "      <td>...</td>\n",
       "      <td>...</td>\n",
       "      <td>...</td>\n",
       "      <td>...</td>\n",
       "      <td>...</td>\n",
       "      <td>...</td>\n",
       "      <td>...</td>\n",
       "    </tr>\n",
       "    <tr>\n",
       "      <th>5676</th>\n",
       "      <td>-1.217514</td>\n",
       "      <td>-1.018333</td>\n",
       "      <td>1.366916</td>\n",
       "      <td>0.004727</td>\n",
       "      <td>1.155198</td>\n",
       "      <td>-1.369215</td>\n",
       "      <td>4264.4490</td>\n",
       "    </tr>\n",
       "    <tr>\n",
       "      <th>5677</th>\n",
       "      <td>-1.049159</td>\n",
       "      <td>1.508493</td>\n",
       "      <td>1.840998</td>\n",
       "      <td>0.455014</td>\n",
       "      <td>-0.607258</td>\n",
       "      <td>1.091560</td>\n",
       "      <td>644.4944</td>\n",
       "    </tr>\n",
       "    <tr>\n",
       "      <th>5678</th>\n",
       "      <td>1.433519</td>\n",
       "      <td>0.153074</td>\n",
       "      <td>0.181713</td>\n",
       "      <td>-0.360485</td>\n",
       "      <td>0.802707</td>\n",
       "      <td>-0.138827</td>\n",
       "      <td>843.5686</td>\n",
       "    </tr>\n",
       "    <tr>\n",
       "      <th>5679</th>\n",
       "      <td>-0.575520</td>\n",
       "      <td>-1.281690</td>\n",
       "      <td>-1.003490</td>\n",
       "      <td>1.190844</td>\n",
       "      <td>-0.959749</td>\n",
       "      <td>-0.138827</td>\n",
       "      <td>7247.2330</td>\n",
       "    </tr>\n",
       "    <tr>\n",
       "      <th>5680</th>\n",
       "      <td>0.479506</td>\n",
       "      <td>0.761716</td>\n",
       "      <td>-1.003490</td>\n",
       "      <td>-0.990674</td>\n",
       "      <td>0.802707</td>\n",
       "      <td>-0.138827</td>\n",
       "      <td>878.8560</td>\n",
       "    </tr>\n",
       "  </tbody>\n",
       "</table>\n",
       "<p>5681 rows × 7 columns</p>\n",
       "</div>"
      ],
      "text/plain": [
       "      Item_Identifier  Item_Visibility  Item_Type  Item_MRP  \\\n",
       "0            0.739896        -1.134077   1.366916 -0.536555   \n",
       "1            0.659085        -0.531850  -0.766450 -0.868937   \n",
       "2            1.420050         0.661316   0.892835  1.629848   \n",
       "3            0.079943        -0.981416   1.366916  0.226697   \n",
       "4            0.921719         1.032540  -0.766450  1.508110   \n",
       "...               ...              ...        ...       ...   \n",
       "5676        -1.217514        -1.018333   1.366916  0.004727   \n",
       "5677        -1.049159         1.508493   1.840998  0.455014   \n",
       "5678         1.433519         0.153074   0.181713 -0.360485   \n",
       "5679        -0.575520        -1.281690  -1.003490  1.190844   \n",
       "5680         0.479506         0.761716  -1.003490 -0.990674   \n",
       "\n",
       "      Outlet_Identifier  Outlet_Location_Type  Predicted_Item_Outlet_Sales  \n",
       "0              1.507689             -1.369215                    1965.4416  \n",
       "1             -0.959749             -0.138827                     713.0718  \n",
       "2             -1.664731              1.091560                     723.0588  \n",
       "3             -0.959749             -0.138827                     620.5256  \n",
       "4              0.097725              1.091560                    5359.6900  \n",
       "...                 ...                   ...                          ...  \n",
       "5676           1.155198             -1.369215                    4264.4490  \n",
       "5677          -0.607258              1.091560                     644.4944  \n",
       "5678           0.802707             -0.138827                     843.5686  \n",
       "5679          -0.959749             -0.138827                    7247.2330  \n",
       "5680           0.802707             -0.138827                     878.8560  \n",
       "\n",
       "[5681 rows x 7 columns]"
      ]
     },
     "execution_count": 33,
     "metadata": {},
     "output_type": "execute_result"
    }
   ],
   "source": [
    "from sklearn.tree import DecisionTreeRegressor\n",
    "\n",
    "# Training score\n",
    "dt = DecisionTreeRegressor()\n",
    "dt.fit(x,y)\n",
    "print(dt.score(x,y))\n",
    "\n",
    "#Testing score\n",
    "y_test = dt.predict(x_test)\n",
    "y_pred = pd.DataFrame({'Predicted_Item_Outlet_Sales':y_test})\n",
    "x_test.join(y_pred)"
   ]
  },
  {
   "cell_type": "markdown",
   "id": "20911142",
   "metadata": {},
   "source": [
    "### Random Forest Regressor"
   ]
  },
  {
   "cell_type": "code",
   "execution_count": 34,
   "id": "07e9db40",
   "metadata": {},
   "outputs": [
    {
     "name": "stdout",
     "output_type": "stream",
     "text": [
      "0.9365185269698784\n"
     ]
    },
    {
     "data": {
      "text/html": [
       "<div>\n",
       "<style scoped>\n",
       "    .dataframe tbody tr th:only-of-type {\n",
       "        vertical-align: middle;\n",
       "    }\n",
       "\n",
       "    .dataframe tbody tr th {\n",
       "        vertical-align: top;\n",
       "    }\n",
       "\n",
       "    .dataframe thead th {\n",
       "        text-align: right;\n",
       "    }\n",
       "</style>\n",
       "<table border=\"1\" class=\"dataframe\">\n",
       "  <thead>\n",
       "    <tr style=\"text-align: right;\">\n",
       "      <th></th>\n",
       "      <th>Item_Identifier</th>\n",
       "      <th>Item_Visibility</th>\n",
       "      <th>Item_Type</th>\n",
       "      <th>Item_MRP</th>\n",
       "      <th>Outlet_Identifier</th>\n",
       "      <th>Outlet_Location_Type</th>\n",
       "      <th>Predicted_Item_Outlet_Sales</th>\n",
       "    </tr>\n",
       "  </thead>\n",
       "  <tbody>\n",
       "    <tr>\n",
       "      <th>0</th>\n",
       "      <td>0.739896</td>\n",
       "      <td>-1.134077</td>\n",
       "      <td>1.366916</td>\n",
       "      <td>-0.536555</td>\n",
       "      <td>1.507689</td>\n",
       "      <td>-1.369215</td>\n",
       "      <td>1732.471522</td>\n",
       "    </tr>\n",
       "    <tr>\n",
       "      <th>1</th>\n",
       "      <td>0.659085</td>\n",
       "      <td>-0.531850</td>\n",
       "      <td>-0.766450</td>\n",
       "      <td>-0.868937</td>\n",
       "      <td>-0.959749</td>\n",
       "      <td>-0.138827</td>\n",
       "      <td>1230.158712</td>\n",
       "    </tr>\n",
       "    <tr>\n",
       "      <th>2</th>\n",
       "      <td>1.420050</td>\n",
       "      <td>0.661316</td>\n",
       "      <td>0.892835</td>\n",
       "      <td>1.629848</td>\n",
       "      <td>-1.664731</td>\n",
       "      <td>1.091560</td>\n",
       "      <td>652.097836</td>\n",
       "    </tr>\n",
       "    <tr>\n",
       "      <th>3</th>\n",
       "      <td>0.079943</td>\n",
       "      <td>-0.981416</td>\n",
       "      <td>1.366916</td>\n",
       "      <td>0.226697</td>\n",
       "      <td>-0.959749</td>\n",
       "      <td>-0.138827</td>\n",
       "      <td>2253.260282</td>\n",
       "    </tr>\n",
       "    <tr>\n",
       "      <th>4</th>\n",
       "      <td>0.921719</td>\n",
       "      <td>1.032540</td>\n",
       "      <td>-0.766450</td>\n",
       "      <td>1.508110</td>\n",
       "      <td>0.097725</td>\n",
       "      <td>1.091560</td>\n",
       "      <td>5865.804528</td>\n",
       "    </tr>\n",
       "    <tr>\n",
       "      <th>...</th>\n",
       "      <td>...</td>\n",
       "      <td>...</td>\n",
       "      <td>...</td>\n",
       "      <td>...</td>\n",
       "      <td>...</td>\n",
       "      <td>...</td>\n",
       "      <td>...</td>\n",
       "    </tr>\n",
       "    <tr>\n",
       "      <th>5676</th>\n",
       "      <td>-1.217514</td>\n",
       "      <td>-1.018333</td>\n",
       "      <td>1.366916</td>\n",
       "      <td>0.004727</td>\n",
       "      <td>1.155198</td>\n",
       "      <td>-1.369215</td>\n",
       "      <td>2661.195942</td>\n",
       "    </tr>\n",
       "    <tr>\n",
       "      <th>5677</th>\n",
       "      <td>-1.049159</td>\n",
       "      <td>1.508493</td>\n",
       "      <td>1.840998</td>\n",
       "      <td>0.455014</td>\n",
       "      <td>-0.607258</td>\n",
       "      <td>1.091560</td>\n",
       "      <td>2187.186290</td>\n",
       "    </tr>\n",
       "    <tr>\n",
       "      <th>5678</th>\n",
       "      <td>1.433519</td>\n",
       "      <td>0.153074</td>\n",
       "      <td>0.181713</td>\n",
       "      <td>-0.360485</td>\n",
       "      <td>0.802707</td>\n",
       "      <td>-0.138827</td>\n",
       "      <td>1944.109368</td>\n",
       "    </tr>\n",
       "    <tr>\n",
       "      <th>5679</th>\n",
       "      <td>-0.575520</td>\n",
       "      <td>-1.281690</td>\n",
       "      <td>-1.003490</td>\n",
       "      <td>1.190844</td>\n",
       "      <td>-0.959749</td>\n",
       "      <td>-0.138827</td>\n",
       "      <td>4762.067920</td>\n",
       "    </tr>\n",
       "    <tr>\n",
       "      <th>5680</th>\n",
       "      <td>0.479506</td>\n",
       "      <td>0.761716</td>\n",
       "      <td>-1.003490</td>\n",
       "      <td>-0.990674</td>\n",
       "      <td>0.802707</td>\n",
       "      <td>-0.138827</td>\n",
       "      <td>1356.753924</td>\n",
       "    </tr>\n",
       "  </tbody>\n",
       "</table>\n",
       "<p>5681 rows × 7 columns</p>\n",
       "</div>"
      ],
      "text/plain": [
       "      Item_Identifier  Item_Visibility  Item_Type  Item_MRP  \\\n",
       "0            0.739896        -1.134077   1.366916 -0.536555   \n",
       "1            0.659085        -0.531850  -0.766450 -0.868937   \n",
       "2            1.420050         0.661316   0.892835  1.629848   \n",
       "3            0.079943        -0.981416   1.366916  0.226697   \n",
       "4            0.921719         1.032540  -0.766450  1.508110   \n",
       "...               ...              ...        ...       ...   \n",
       "5676        -1.217514        -1.018333   1.366916  0.004727   \n",
       "5677        -1.049159         1.508493   1.840998  0.455014   \n",
       "5678         1.433519         0.153074   0.181713 -0.360485   \n",
       "5679        -0.575520        -1.281690  -1.003490  1.190844   \n",
       "5680         0.479506         0.761716  -1.003490 -0.990674   \n",
       "\n",
       "      Outlet_Identifier  Outlet_Location_Type  Predicted_Item_Outlet_Sales  \n",
       "0              1.507689             -1.369215                  1732.471522  \n",
       "1             -0.959749             -0.138827                  1230.158712  \n",
       "2             -1.664731              1.091560                   652.097836  \n",
       "3             -0.959749             -0.138827                  2253.260282  \n",
       "4              0.097725              1.091560                  5865.804528  \n",
       "...                 ...                   ...                          ...  \n",
       "5676           1.155198             -1.369215                  2661.195942  \n",
       "5677          -0.607258              1.091560                  2187.186290  \n",
       "5678           0.802707             -0.138827                  1944.109368  \n",
       "5679          -0.959749             -0.138827                  4762.067920  \n",
       "5680           0.802707             -0.138827                  1356.753924  \n",
       "\n",
       "[5681 rows x 7 columns]"
      ]
     },
     "execution_count": 34,
     "metadata": {},
     "output_type": "execute_result"
    }
   ],
   "source": [
    "from sklearn.ensemble import RandomForestRegressor\n",
    "\n",
    "# Training score\n",
    "rfr = RandomForestRegressor()\n",
    "rfr.fit(x,y)\n",
    "print(rfr.score(x,y))\n",
    "\n",
    "#Testing score\n",
    "y_test = rfr.predict(x_test)\n",
    "y_pred = pd.DataFrame({'Predicted_Item_Outlet_Sales':y_test})\n",
    "x_test.join(y_pred)"
   ]
  },
  {
   "cell_type": "markdown",
   "id": "de02a281",
   "metadata": {},
   "source": [
    "## Cross-Validation"
   ]
  },
  {
   "cell_type": "markdown",
   "id": "7a8c54e0",
   "metadata": {},
   "source": [
    "To check whether the model is overfitting or underfitting"
   ]
  },
  {
   "cell_type": "code",
   "execution_count": 35,
   "id": "7a96a2a6",
   "metadata": {},
   "outputs": [
    {
     "name": "stdout",
     "output_type": "stream",
     "text": [
      "LR cvs: 0.4321793707584364\n",
      "DT cvs: 0.1760339729266085\n",
      "RFR cvs: 0.5332397749917928\n"
     ]
    }
   ],
   "source": [
    "from sklearn.model_selection import cross_val_score\n",
    "\n",
    "sc = cross_val_score(LR,x,y,cv=5)\n",
    "print('LR cvs:',sc.mean())\n",
    "\n",
    "sc1 = cross_val_score(dt,x,y,cv=5)\n",
    "print('DT cvs:',sc1.mean())\n",
    "\n",
    "sc2 = cross_val_score(rfr,x,y,cv=5)\n",
    "print('RFR cvs:',sc2.mean())"
   ]
  },
  {
   "cell_type": "markdown",
   "id": "19f484c6",
   "metadata": {},
   "source": [
    "On comparing the model score and cross validation score, Linear Regression fits for the best"
   ]
  },
  {
   "cell_type": "markdown",
   "id": "512b2753",
   "metadata": {},
   "source": [
    "## Hyper parameter tuning"
   ]
  },
  {
   "cell_type": "code",
   "execution_count": 36,
   "id": "ad02dd72",
   "metadata": {},
   "outputs": [],
   "source": [
    "from sklearn.model_selection import RandomizedSearchCV\n",
    "from sklearn.ensemble import AdaBoostRegressor\n",
    "from sklearn.tree import DecisionTreeRegressor\n",
    "dt = DecisionTreeRegressor()"
   ]
  },
  {
   "cell_type": "code",
   "execution_count": 38,
   "id": "9c2b39ac",
   "metadata": {},
   "outputs": [
    {
     "name": "stdout",
     "output_type": "stream",
     "text": [
      "RandomizedSearchCV(cv=5, estimator=AdaBoostRegressor(),\n",
      "                   param_distributions={'learning_rate': [0.3, 0.4, 0.45, 0.8,\n",
      "                                                          0.9],\n",
      "                                        'n_estimators': [40, 45, 55, 50]})\n",
      "Best Estimator: AdaBoostRegressor(learning_rate=0.3, n_estimators=40)\n"
     ]
    }
   ],
   "source": [
    "params = {'n_estimators': [40,45,55,50], 'learning_rate':[0.30,0.40,0.45,0.8,0.9]} \n",
    "rnd_search = RandomizedSearchCV (AdaBoostRegressor(), cv = 5, param_distributions = params,n_iter = 10,n_jobs=1)\n",
    "print(rnd_search.fit(x,y))\n",
    "print('Best Estimator:', rnd_search.best_estimator_)"
   ]
  },
  {
   "cell_type": "code",
   "execution_count": 39,
   "id": "b30fe10a",
   "metadata": {},
   "outputs": [
    {
     "name": "stdout",
     "output_type": "stream",
     "text": [
      "Accuracy post tuning\n",
      "0.9240981405526079\n"
     ]
    }
   ],
   "source": [
    "from sklearn import metrics\n",
    "\n",
    "ada = AdaBoostRegressor(base_estimator = dt, learning_rate=0.3,n_estimators=40)\n",
    "ada.fit(x,y)\n",
    "y_pred = ada.predict(x_test)\n",
    "\n",
    "print('Accuracy post tuning')\n",
    "print(metrics.r2_score(y_test,y_pred))"
   ]
  },
  {
   "cell_type": "markdown",
   "id": "ad6943fe",
   "metadata": {},
   "source": [
    "The accuracy has changed after hyper parameter tuning. So, save adaboostregressor."
   ]
  },
  {
   "cell_type": "markdown",
   "id": "5643e0ff",
   "metadata": {},
   "source": [
    "## Saving the model"
   ]
  },
  {
   "cell_type": "code",
   "execution_count": 40,
   "id": "884ef93c",
   "metadata": {},
   "outputs": [],
   "source": [
    "import pickle\n",
    "filename = 'churn.pkl'\n",
    "pickle.dump(ada,open(filename,'wb'))"
   ]
  },
  {
   "cell_type": "markdown",
   "id": "9f1efd34",
   "metadata": {},
   "source": [
    "Thus the model is saved"
   ]
  },
  {
   "cell_type": "code",
   "execution_count": null,
   "id": "8d05f7ec",
   "metadata": {},
   "outputs": [],
   "source": []
  }
 ],
 "metadata": {
  "kernelspec": {
   "display_name": "Python 3",
   "language": "python",
   "name": "python3"
  },
  "language_info": {
   "codemirror_mode": {
    "name": "ipython",
    "version": 3
   },
   "file_extension": ".py",
   "mimetype": "text/x-python",
   "name": "python",
   "nbconvert_exporter": "python",
   "pygments_lexer": "ipython3",
   "version": "3.8.8"
  }
 },
 "nbformat": 4,
 "nbformat_minor": 5
}
